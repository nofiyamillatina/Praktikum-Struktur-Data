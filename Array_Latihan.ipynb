{
  "nbformat": 4,
  "nbformat_minor": 0,
  "metadata": {
    "colab": {
      "provenance": [],
      "authorship_tag": "ABX9TyPljSU4FZEYI6VnjSC56kKI",
      "include_colab_link": true
    },
    "kernelspec": {
      "name": "python3",
      "display_name": "Python 3"
    },
    "language_info": {
      "name": "python"
    }
  },
  "cells": [
    {
      "cell_type": "markdown",
      "metadata": {
        "id": "view-in-github",
        "colab_type": "text"
      },
      "source": [
        "<a href=\"https://colab.research.google.com/github/nofiyamillatina/Praktikum-Struktur-Data/blob/main/Array_Latihan.ipynb\" target=\"_parent\"><img src=\"https://colab.research.google.com/assets/colab-badge.svg\" alt=\"Open In Colab\"/></a>"
      ]
    },
    {
      "cell_type": "code",
      "execution_count": null,
      "metadata": {
        "colab": {
          "base_uri": "https://localhost:8080/"
        },
        "id": "MrrNuzgjsCtj",
        "outputId": "44158196-a0c4-4097-a7b1-baa48977a9d0"
      },
      "outputs": [
        {
          "output_type": "stream",
          "name": "stdout",
          "text": [
            "isi array angka: [10, 20, 30, 40, 50]\n"
          ]
        }
      ],
      "source": [
        "# deklarasi array kosong\n",
        "data = []\n",
        "\n",
        "# inisialisasi array dengan elemen\n",
        "angka = [10, 20, 30, 40, 50]\n",
        "\n",
        "# menampilkan isi array\n",
        "print(\"isi array angka:\", angka)"
      ]
    },
    {
      "cell_type": "code",
      "source": [
        "# mengakses elemen array\n",
        "print(\"Elemen pertama:\", angka[0])  # elemen pertama\n",
        "print(\"Elemen terakhir:\", angka[-1])  #elemen terakhir"
      ],
      "metadata": {
        "colab": {
          "base_uri": "https://localhost:8080/"
        },
        "id": "t26YF3DmuClk",
        "outputId": "eb5abea3-9d08-4e46-8326-5b37ab9da1f7"
      },
      "execution_count": null,
      "outputs": [
        {
          "output_type": "stream",
          "name": "stdout",
          "text": [
            "Elemen pertama: 10\n",
            "Elemen terakhir: 50\n"
          ]
        }
      ]
    },
    {
      "cell_type": "code",
      "source": [
        "# menambahkan elemen menggunakan append ()\n",
        "angka.append(60)\n",
        "print(\"Array setelah penambahan elemen:\", angka)\n",
        "\n",
        "# menambah elemen menggunakan insert ()\n",
        "angka.insert(2, 25)\n",
        "print(\"Array setelah penambahan elemen dengan insert:\", angka)"
      ],
      "metadata": {
        "colab": {
          "base_uri": "https://localhost:8080/"
        },
        "id": "QDteZ6M_wHMj",
        "outputId": "665b4328-3a42-4da7-c58e-a8686368287f"
      },
      "execution_count": null,
      "outputs": [
        {
          "output_type": "stream",
          "name": "stdout",
          "text": [
            "Array setelah penambahan elemen: [10, 20, 30, 40, 50, 60]\n",
            "Array setelah penambahan elemen dengan insert: [10, 20, 25, 30, 40, 50, 60]\n"
          ]
        }
      ]
    },
    {
      "cell_type": "code",
      "source": [
        "# menghapus elemen menggunakan remove ()\n",
        "angka.remove(25)\n",
        "print(\"Array setelah menghapus elemen 25:\", angka)\n",
        "\n",
        "# menghapus elemen menggunakan pop ()\n",
        "angka.pop(2)\n",
        "print(\"Array setelah menghapus elemen pada indeks 2:\", angka)"
      ],
      "metadata": {
        "colab": {
          "base_uri": "https://localhost:8080/"
        },
        "id": "6xyM6Ojww8Xr",
        "outputId": "83945ecc-68fc-4f13-826f-4ac5657a8b6c"
      },
      "execution_count": null,
      "outputs": [
        {
          "output_type": "stream",
          "name": "stdout",
          "text": [
            "Array setelah menghapus elemen 25: [10, 20, 30, 40, 50, 60]\n",
            "Array setelah menghapus elemen pada indeks 2: [10, 20, 40, 50, 60]\n"
          ]
        }
      ]
    },
    {
      "cell_type": "code",
      "source": [
        "# mengubah elemen pada indeks 0\n",
        "angka[0] = 100\n",
        "print(\"Array setelah mengubah elemen pada indeks 0:\", angka)"
      ],
      "metadata": {
        "colab": {
          "base_uri": "https://localhost:8080/"
        },
        "id": "f2LDRc6vxm9b",
        "outputId": "d5526012-928e-48d9-b0f5-0b4c74ff9b12"
      },
      "execution_count": null,
      "outputs": [
        {
          "output_type": "stream",
          "name": "stdout",
          "text": [
            "Array setelah mengubah elemen pada indeks 0: [100, 20, 40, 50, 60]\n"
          ]
        }
      ]
    },
    {
      "cell_type": "code",
      "source": [
        "# iterasi dengan perulangan\n",
        "angka = [10, 20, 30, 40]\n",
        "\n",
        "for nilai in angka:\n",
        "  print(\"Nilai:\", nilai)"
      ],
      "metadata": {
        "colab": {
          "base_uri": "https://localhost:8080/"
        },
        "id": "7gc8khgOx0Ly",
        "outputId": "d5bb6ce6-d810-4b67-d4d2-ba42e0166681"
      },
      "execution_count": null,
      "outputs": [
        {
          "output_type": "stream",
          "name": "stdout",
          "text": [
            "Nilai: 10\n",
            "Nilai: 20\n",
            "Nilai: 30\n",
            "Nilai: 40\n"
          ]
        }
      ]
    },
    {
      "cell_type": "code",
      "source": [
        "# operasi matematika sederhana\n",
        "print(\"Jumlah total:\", sum(angka))\n",
        "print(\"Nilai maksimum:\", max(angka))\n",
        "print(\"Nilai minimum:\", min(angka))"
      ],
      "metadata": {
        "colab": {
          "base_uri": "https://localhost:8080/"
        },
        "id": "vSTaRB5XyzF5",
        "outputId": "5aaaa9b7-225e-4b0f-a5ba-2ac95ba276cd"
      },
      "execution_count": null,
      "outputs": [
        {
          "output_type": "stream",
          "name": "stdout",
          "text": [
            "Jumlah total: 100\n",
            "Nilai maksimum: 40\n",
            "Nilai minimum: 10\n"
          ]
        }
      ]
    },
    {
      "cell_type": "code",
      "source": [
        "# deklarasi array 2D\n",
        "matriks = [\n",
        "    [1, 2, 3],\n",
        "    [4, 5, 6],\n",
        "    [7, 8, 9]\n",
        "]\n",
        "\n",
        "# menampilkan isi array 2D\n",
        "print(\"Isi array 2D:\")\n",
        "for baris in matriks:\n",
        "    print(baris)"
      ],
      "metadata": {
        "colab": {
          "base_uri": "https://localhost:8080/"
        },
        "id": "Ph9yC7REzEbp",
        "outputId": "ae2c8ec7-e097-4cf0-d141-fa31b167bd01"
      },
      "execution_count": null,
      "outputs": [
        {
          "output_type": "stream",
          "name": "stdout",
          "text": [
            "Isi array 2D:\n",
            "[1, 2, 3]\n",
            "[4, 5, 6]\n",
            "[7, 8, 9]\n"
          ]
        }
      ]
    },
    {
      "cell_type": "code",
      "source": [
        "# mengakses elemen pada baris ke-1, kolom ke-2 (indeks [0][1])\n",
        "print(\"Elemen pada baris ke-1, kolom ke-2:\", matriks[0][1])\n",
        "\n",
        "# mengakses elemen terakhir (baris ke-3, kolom ke- 3)\n",
        "print(\"Elemen terakhir:\", matriks[-1][-1])"
      ],
      "metadata": {
        "colab": {
          "base_uri": "https://localhost:8080/"
        },
        "id": "e-__asJp0SM7",
        "outputId": "05ed8777-afdd-4062-aa5e-8997130ba6cb"
      },
      "execution_count": null,
      "outputs": [
        {
          "output_type": "stream",
          "name": "stdout",
          "text": [
            "Elemen pada baris ke-1, kolom ke-2: 2\n",
            "Elemen terakhir: 9\n"
          ]
        }
      ]
    },
    {
      "cell_type": "code",
      "source": [
        "# menambahkan baris baru\n",
        "matriks.append([10, 11, 12])\n",
        "print(\"Array setelah menambahkan baris baru:\", matriks)\n",
        "\n",
        "# menambahakan elemen pada baris ke-2\n",
        "matriks[1].append(99)\n",
        "print(\"Array setelah menambahkan elemen pada baris ke-2:\", matriks)"
      ],
      "metadata": {
        "colab": {
          "base_uri": "https://localhost:8080/"
        },
        "id": "hsCocFYk39QK",
        "outputId": "bbfb5ad7-c1e5-4c05-b1d1-2729a59c2899"
      },
      "execution_count": null,
      "outputs": [
        {
          "output_type": "stream",
          "name": "stdout",
          "text": [
            "Array setelah menambahkan baris baru: [[1, 2, 3], [4, 5, 6], [7, 8, 9], [10, 11, 12]]\n",
            "Array setelah menambahkan elemen pada baris ke-2: [[1, 2, 3], [4, 5, 6, 99], [7, 8, 9], [10, 11, 12]]\n"
          ]
        }
      ]
    },
    {
      "cell_type": "markdown",
      "source": [
        "# Latihan 1\n"
      ],
      "metadata": {
        "id": "9MCDO3JWaBQz"
      }
    },
    {
      "cell_type": "code",
      "source": [
        "# Latihan 1\n",
        "data = []\n",
        "NPM = [2420506026, 2420506027, 2420506028, 2420506029, 2420506030]\n",
        "print(\"NPM:\", NPM)"
      ],
      "metadata": {
        "colab": {
          "base_uri": "https://localhost:8080/"
        },
        "id": "gprm0vbn4cMI",
        "outputId": "c87edf41-b0c9-4c36-d2d4-5d6a625b3572"
      },
      "execution_count": null,
      "outputs": [
        {
          "output_type": "stream",
          "name": "stdout",
          "text": [
            "NPM: [2420506026, 2420506027, 2420506028, 2420506029, 2420506030]\n"
          ]
        }
      ]
    },
    {
      "cell_type": "code",
      "source": [
        "# Latihan 2\n",
        "angka = []\n",
        "angka = [24,20,50,60,26]\n",
        "print(\"isi array angka:\", angka)\n",
        "angka.append(26)\n",
        "print(\"Array setelah penambahan elemen:\", angka)\n",
        "angka.pop(0)\n",
        "print(\"Array setelah penghapusan elemen:\", angka)"
      ],
      "metadata": {
        "colab": {
          "base_uri": "https://localhost:8080/"
        },
        "id": "pYKXpoviaMLL",
        "outputId": "f30a46d3-18ee-4141-a28a-261d3e21e3fd"
      },
      "execution_count": null,
      "outputs": [
        {
          "output_type": "stream",
          "name": "stdout",
          "text": [
            "isi array angka: [24, 20, 50, 60, 26]\n",
            "Array setelah penambahan elemen: [24, 20, 50, 60, 26, 26]\n",
            "Array setelah penghapusan elemen: [20, 50, 60, 26, 26]\n"
          ]
        }
      ]
    },
    {
      "cell_type": "markdown",
      "source": [
        "# New Section"
      ],
      "metadata": {
        "id": "QRCmiGAsZ4j1"
      }
    },
    {
      "cell_type": "code",
      "source": [
        "# Latihan 3\n",
        "fakultas = [\"Ekonomi\", \"Keguruan dan Ilmu Pendidikan\", \"Pertanian\", \"Teknik\", \"Ilmu Sosial dan Politik\"]\n",
        "\n",
        "for fakultas in fakultas:\n",
        "  print(\"Fakultas:\", fakultas)"
      ],
      "metadata": {
        "colab": {
          "base_uri": "https://localhost:8080/"
        },
        "id": "mbEEop4FAZsh",
        "outputId": "0e4647df-1185-4777-b55d-c46adc77edef"
      },
      "execution_count": null,
      "outputs": [
        {
          "output_type": "stream",
          "name": "stdout",
          "text": [
            "Fakultas: Ekonomi\n",
            "Fakultas: Keguruan dan Ilmu Pendidikan\n",
            "Fakultas: Pertanian\n",
            "Fakultas: Teknik\n",
            "Fakultas: Ilmu Sosial dan Politik\n"
          ]
        }
      ]
    },
    {
      "cell_type": "code",
      "source": [
        "# Latihan 4\n",
        "harga = []\n",
        "harga = [5000, 4000, 2000, 3000]\n",
        "print(\"Harga:\", harga)\n",
        "print(\"Jumlah total:\", sum(harga))"
      ],
      "metadata": {
        "id": "qZhlWI8IDr1o",
        "colab": {
          "base_uri": "https://localhost:8080/"
        },
        "outputId": "6058236b-d23e-43f9-e823-03406f1479f3"
      },
      "execution_count": null,
      "outputs": [
        {
          "output_type": "stream",
          "name": "stdout",
          "text": [
            "Harga: [5000, 4000, 2000, 3000]\n",
            "Jumlah total: 14000\n"
          ]
        }
      ]
    },
    {
      "cell_type": "code",
      "source": [
        "# Latihan 5\n",
        "matriks = [\n",
        "    [1, 4, 6, 8],\n",
        "    [4, 7, 5, 9],\n",
        "    [3, 6, 8, 4],\n",
        "]\n",
        "print(\"Isi array 2D:\")\n",
        "for baris in matriks:\n",
        "    print(baris)"
      ],
      "metadata": {
        "colab": {
          "base_uri": "https://localhost:8080/"
        },
        "id": "wsRxgCndi94a",
        "outputId": "32d533bc-014e-4bdb-d29e-8a6c843c1802"
      },
      "execution_count": null,
      "outputs": [
        {
          "output_type": "stream",
          "name": "stdout",
          "text": [
            "Isi array 2D:\n",
            "[1, 4, 6, 8]\n",
            "[4, 7, 5, 9]\n",
            "[3, 6, 8, 4]\n"
          ]
        }
      ]
    },
    {
      "cell_type": "code",
      "source": [
        "# Latihan 6\n",
        "print(\"Elemen pada baris ke-2, kolom ke-4:\", matriks[1][3])"
      ],
      "metadata": {
        "colab": {
          "base_uri": "https://localhost:8080/"
        },
        "id": "CvUnnU-mkbIW",
        "outputId": "bb6718fd-e4bb-4497-b004-98da13383868"
      },
      "execution_count": null,
      "outputs": [
        {
          "output_type": "stream",
          "name": "stdout",
          "text": [
            "Elemen pada baris ke-2, kolom ke-4: 9\n"
          ]
        }
      ]
    },
    {
      "cell_type": "code",
      "source": [
        "# Latihan 7\n",
        "matriks.append([15, 7, 20, 5])\n",
        "print(\"Array setelah menambahkan baris baru:\", matriks)"
      ],
      "metadata": {
        "colab": {
          "base_uri": "https://localhost:8080/"
        },
        "id": "Q5pAtLS6lE7J",
        "outputId": "b75570b6-e5f2-4074-87cc-ffc8ea500ce2"
      },
      "execution_count": null,
      "outputs": [
        {
          "output_type": "stream",
          "name": "stdout",
          "text": [
            "Array setelah menambahkan baris baru: [[1, 4, 6, 8], [4, 7, 5, 9], [3, 6, 8, 4], [15, 7, 20, 5]]\n"
          ]
        }
      ]
    },
    {
      "cell_type": "code",
      "source": [
        "# Latihan 8\n",
        "matriks[-1].pop(2)\n",
        "print(\"Array setelah menghapus elemen ke-3 dari baris ke-3:\", matriks)"
      ],
      "metadata": {
        "colab": {
          "base_uri": "https://localhost:8080/"
        },
        "id": "Jo_puxOFsncP",
        "outputId": "194d763e-24e1-457b-d5a6-3e2bcbec4f34"
      },
      "execution_count": null,
      "outputs": [
        {
          "output_type": "stream",
          "name": "stdout",
          "text": [
            "Array setelah menghapus elemen ke-3 dari baris ke-3: [[1, 4, 6, 8], [4, 7, 5, 9], [3, 6, 8, 4], [15, 7, 5]]\n"
          ]
        }
      ]
    },
    {
      "cell_type": "code",
      "source": [
        "# Latihan 9\n",
        "matriks[3][2] = 19\n",
        "print(\"Array setelah mengubah elemen pada baris ke-4, kolom ke-3:\", matriks)"
      ],
      "metadata": {
        "colab": {
          "base_uri": "https://localhost:8080/"
        },
        "id": "VZxk4URRtORq",
        "outputId": "5d8392d4-2e33-446f-ce0b-395788678a0e"
      },
      "execution_count": null,
      "outputs": [
        {
          "output_type": "stream",
          "name": "stdout",
          "text": [
            "Array setelah mengubah elemen pada baris ke-4, kolom ke-3: [[1, 4, 6, 8], [4, 7, 5, 9], [3, 6, 8, 4], [15, 7, 19]]\n"
          ]
        }
      ]
    },
    {
      "cell_type": "code",
      "source": [
        "# Latihan 10\n",
        "barang = [\"Ls NCT 127\", \"Ls NCT DREAM\", \"Ls ENHYPEN\", \"Ls SEVENTEEN\", \"Ls BTS\"]\n",
        "barang.append(\"Ls EXO\")\n",
        "barang.remove(\"Ls BTS\")\n",
        "print(\"Daftar barang terbaru:\", barang)"
      ],
      "metadata": {
        "colab": {
          "base_uri": "https://localhost:8080/"
        },
        "id": "ssqaIFpKu9_N",
        "outputId": "062e285b-28ca-4253-d83e-0033ca2e987c"
      },
      "execution_count": null,
      "outputs": [
        {
          "output_type": "stream",
          "name": "stdout",
          "text": [
            "Daftar barang terbaru: ['Ls NCT 127', 'Ls NCT DREAM', 'Ls ENHYPEN', 'Ls SEVENTEEN', 'Ls EXO']\n"
          ]
        }
      ]
    }
  ]
}