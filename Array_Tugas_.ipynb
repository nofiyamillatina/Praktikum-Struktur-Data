{
  "nbformat": 4,
  "nbformat_minor": 0,
  "metadata": {
    "colab": {
      "provenance": [],
      "authorship_tag": "ABX9TyPdG5uBqb6A3kTPZywbfM0v",
      "include_colab_link": true
    },
    "kernelspec": {
      "name": "python3",
      "display_name": "Python 3"
    },
    "language_info": {
      "name": "python"
    }
  },
  "cells": [
    {
      "cell_type": "markdown",
      "metadata": {
        "id": "view-in-github",
        "colab_type": "text"
      },
      "source": [
        "<a href=\"https://colab.research.google.com/github/nofiyamillatina/Praktikum-Struktur-Data/blob/main/Array_Tugas_.ipynb\" target=\"_parent\"><img src=\"https://colab.research.google.com/assets/colab-badge.svg\" alt=\"Open In Colab\"/></a>"
      ]
    },
    {
      "cell_type": "markdown",
      "source": [
        "Code Awal\n"
      ],
      "metadata": {
        "id": "1n0Gu_lce3FY"
      }
    },
    {
      "cell_type": "code",
      "source": [
        "# Ukuran peta\n",
        "size = 10\n",
        "\n",
        "# Membuat peta dengan harta karun tersembunyi\n",
        "treasure_map = [\"_\" for _ in range(size)]\n",
        "\n",
        "# Tentukan lokasi harta karun secara manual\n",
        "print(f\"Selamat datang di Treasure Hunt! Peta memiliki {size} lokasi (0 hingga {size-1}).\")\n",
        "treasure_index = int(input(f\"Masukkan lokasi harta karun (0 hingga {size-1}): \"))\n",
        "while treasure_index < 0 or treasure_index >= size:\n",
        "    print(\"Lokasi tidak valid. Masukkan angka dalam rentang yang benar.\")\n",
        "    treasure_index = int(input(f\"Masukkan lokasi harta karun (0 hingga {size-1}): \"))\n",
        "\n",
        "treasure_map[treasure_index] = \"X\" # Menyembunyikan harta karun di lokasi yang dipilih\n",
        "\n",
        "# Fungsi untuk memulai permainan\n",
        "def play_treasure_hunt():\n",
        "  print(\"\\nHarta karun telat disembunyikan! Sekarang giliran pemain menebak.\")\n",
        "  print(\"Cobalah untuk menemukan harta karun dengan menebak indeks yang benar.\")\n",
        "\n",
        "  # Loop permainan\n",
        "  while True:\n",
        "    # menampilkan peta tersembunyi kepada pemain\n",
        "    print(\"\\nPeta saat ini: \", [\"_\" for _ in range(size)]) # peta tersembunyi\n",
        "\n",
        "    # Input pemain\n",
        "    try:\n",
        "      guess = int(input(f\"Masukkan indeks tebakanmu (0 hingga {size-1}): \"))\n",
        "    except ValueError:\n",
        "      print(\"Masukkan angka yang valid!\")\n",
        "      continue\n",
        "\n",
        "      # Validasi input\n",
        "    if guess < 0 or guess >= size:\n",
        "        print(\"Indeks tidak valid, pilih antara 0 hingga\", size-1)\n",
        "        continue\n",
        "\n",
        "      # Mengecek apakah tebakan benar\n",
        "    if treasure_map[guess] == \"X\":\n",
        "        print(\"Selamat! Kamu menemukan harta karun di lokasi:\", guess)\n",
        "        break\n",
        "    else:\n",
        "        print(\"Tidak ada harta di lokasi ini. Coba lagi!\")\n",
        "\n",
        "  print(\"Terimakasih sudah bermain!\")\n",
        "\n",
        "# Jalankan permainan\n",
        "play_treasure_hunt()"
      ],
      "metadata": {
        "colab": {
          "base_uri": "https://localhost:8080/"
        },
        "id": "n-2AAEjKes85",
        "outputId": "3a699b79-7bc5-4a98-fccb-12a15e59acd1"
      },
      "execution_count": 3,
      "outputs": [
        {
          "output_type": "stream",
          "name": "stdout",
          "text": [
            "Selamat datang di Treasure Hunt! Peta memiliki 10 lokasi (0 hingga 9).\n",
            "Masukkan lokasi harta karun (0 hingga 9): 3\n",
            "\n",
            "Harta karun telat disembunyikan! Sekarang giliran pemain menebak.\n",
            "Cobalah untuk menemukan harta karun dengan menebak indeks yang benar.\n",
            "\n",
            "Peta saat ini:  ['_', '_', '_', '_', '_', '_', '_', '_', '_', '_']\n",
            "Masukkan indeks tebakanmu (0 hingga 9): 3\n",
            "Selamat! Kamu menemukan harta karun di lokasi: 3\n",
            "Terimakasih sudah bermain!\n"
          ]
        }
      ]
    },
    {
      "cell_type": "code",
      "execution_count": 1,
      "metadata": {
        "colab": {
          "base_uri": "https://localhost:8080/"
        },
        "id": "VcsIVcOIcyd3",
        "outputId": "556cbf3b-694c-4050-d82a-68b0a0cec526"
      },
      "outputs": [
        {
          "output_type": "stream",
          "name": "stdout",
          "text": [
            "Masukkan ukuran peta : 3\n",
            "Selamat datang di Treasure Hunt! Peta memiliki 3 lokasi (0 hingga 2).\n",
            "Masukkan lokasi harta karun (0 hingga 2): 3\n",
            "Lokasi tidak valid. Masukkan angka dalam rentang yang benar.\n",
            "Masukkan lokasi harta karun (0 hingga 2): 2\n",
            "\n",
            "Harta karun telat disembunyikan! Sekarang giliran pemain menebak.\n",
            "Cobalah untuk menemukan harta karun dengan menebak indeks yang benar.\n",
            "\n",
            "Peta saat ini:  ['_', '_', '_']\n",
            "Masukkan indeks tebakanmu (0 hingga 2): 2\n",
            "Selamat! Kamu menemukan harta karun di lokasi: 2\n",
            "Terimakasih sudah bermain!\n"
          ]
        }
      ],
      "source": [
        "# Ukuran peta\n",
        "size = int(input(\"Masukkan ukuran peta : \"))\n",
        "\n",
        "# Membuat peta dengan harta karun tersembunyi\n",
        "treasure_map = [\"_\" for _ in range(size)]\n",
        "\n",
        "# Tentukan lokasi harta karun secara manual\n",
        "print(f\"Selamat datang di Treasure Hunt! Peta memiliki {size} lokasi (0 hingga {size-1}).\")\n",
        "treasure_index = int(input(f\"Masukkan lokasi harta karun (0 hingga {size-1}): \"))\n",
        "while treasure_index < 0 or treasure_index >= size:\n",
        "    print(\"Lokasi tidak valid. Masukkan angka dalam rentang yang benar.\")\n",
        "    treasure_index = int(input(f\"Masukkan lokasi harta karun (0 hingga {size-1}): \"))\n",
        "\n",
        "treasure_map[treasure_index] = \"X\" # Menyembunyikan harta karun di lokasi yang dipilih\n",
        "\n",
        "# Fungsi untuk memulai permainan\n",
        "def play_treasure_hunt():\n",
        "  print(\"\\nHarta karun telat disembunyikan! Sekarang giliran pemain menebak.\")\n",
        "  print(\"Cobalah untuk menemukan harta karun dengan menebak indeks yang benar.\")\n",
        "\n",
        "  # Loop permainan\n",
        "  while True:\n",
        "    # menampilkan peta tersembunyi kepada pemain\n",
        "    print(\"\\nPeta saat ini: \", [\"_\" for _ in range(size)]) # peta tersembunyi\n",
        "\n",
        "    # Input pemain\n",
        "    try:\n",
        "      guess = int(input(f\"Masukkan indeks tebakanmu (0 hingga {size-1}): \"))\n",
        "    except ValueError:\n",
        "      print(\"Masukkan angka yang valid!\")\n",
        "      continue\n",
        "\n",
        "      # Validasi input\n",
        "    if guess < 0 or guess >= size:\n",
        "        print(\"Indeks tidak valid, pilih antara 0 hingga\", size-1)\n",
        "        continue\n",
        "\n",
        "      # Mengecek apakah tebakan benar\n",
        "    if treasure_map[guess] == \"X\":\n",
        "        print(\"Selamat! Kamu menemukan harta karun di lokasi:\", guess)\n",
        "        break\n",
        "    else:\n",
        "        print(\"Tidak ada harta di lokasi ini. Coba lagi!\")\n",
        "\n",
        "  print(\"Terimakasih sudah bermain!\")\n",
        "\n",
        "# Jalankan permainan\n",
        "play_treasure_hunt()"
      ]
    },
    {
      "cell_type": "code",
      "source": [
        "# Import library random\n",
        "import random\n",
        "\n",
        "# Ukuran peta\n",
        "size = int(input(\"Masukkan ukuran peta : \"))\n",
        "\n",
        "# Membuat peta dengan harta karun tersembunyi\n",
        "treasure_map = [\"_\" for _ in range(size)]\n",
        "\n",
        "# Tentukan lokasi harta karun secara manual\n",
        "treasure_index = random.randint(0, size - 1)\n",
        "treasure_map[treasure_index] = \"X\"\n",
        "\n",
        "# Fungsi untuk memulai permainan\n",
        "def play_treasure_hunt():\n",
        "  print(\"\\nHarta karun telat disembunyikan! Sekarang giliran pemain menebak.\")\n",
        "  print(\"Cobalah untuk menemukan harta karun dengan menebak indeks yang benar.\")\n",
        "\n",
        "  # Loop permainan\n",
        "  while True:\n",
        "    # menampilkan peta tersembunyi kepada pemain\n",
        "    print(\"\\nPeta saat ini: \", [\"_\" for _ in range(size)]) # peta tersembunyi\n",
        "\n",
        "    # Input pemain\n",
        "    try:\n",
        "      guess = int(input(f\"Masukkan indeks tebakanmu (0 hingga {size-1}): \"))\n",
        "    except ValueError:\n",
        "      print(\"Masukkan angka yang valid!\")\n",
        "      continue\n",
        "\n",
        "      # Validasi input\n",
        "    if guess < 0 or guess >= size:\n",
        "        print(\"Indeks tidak valid, pilih antara 0 hingga\", size-1)\n",
        "        continue\n",
        "\n",
        "      # Mengecek apakah tebakan benar\n",
        "    if treasure_map[guess] == \"X\":\n",
        "        print(\"Selamat! Kamu menemukan harta karun di lokasi:\", guess)\n",
        "        break\n",
        "    else:\n",
        "        print(\"Tidak ada harta di lokasi ini. Coba lagi!\")\n",
        "\n",
        "  print(\"Terimakasih sudah bermain!\")\n",
        "\n",
        "# Jalankan permainan\n",
        "play_treasure_hunt()"
      ],
      "metadata": {
        "colab": {
          "base_uri": "https://localhost:8080/"
        },
        "id": "nYbrGgJLdXWC",
        "outputId": "c6cccede-4206-45cc-e6e9-1c53b7d8cce0"
      },
      "execution_count": 2,
      "outputs": [
        {
          "output_type": "stream",
          "name": "stdout",
          "text": [
            "Masukkan ukuran peta : 3\n",
            "\n",
            "Harta karun telat disembunyikan! Sekarang giliran pemain menebak.\n",
            "Cobalah untuk menemukan harta karun dengan menebak indeks yang benar.\n",
            "\n",
            "Peta saat ini:  ['_', '_', '_']\n",
            "Masukkan indeks tebakanmu (0 hingga 2): 1\n",
            "Selamat! Kamu menemukan harta karun di lokasi: 1\n",
            "Terimakasih sudah bermain!\n"
          ]
        }
      ]
    }
  ]
}