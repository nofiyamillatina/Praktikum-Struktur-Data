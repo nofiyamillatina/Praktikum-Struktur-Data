{
  "nbformat": 4,
  "nbformat_minor": 0,
  "metadata": {
    "colab": {
      "provenance": [],
      "authorship_tag": "ABX9TyObChc4mZZWcoiEa12sSVOh",
      "include_colab_link": true
    },
    "kernelspec": {
      "name": "python3",
      "display_name": "Python 3"
    },
    "language_info": {
      "name": "python"
    }
  },
  "cells": [
    {
      "cell_type": "markdown",
      "metadata": {
        "id": "view-in-github",
        "colab_type": "text"
      },
      "source": [
        "<a href=\"https://colab.research.google.com/github/nofiyamillatina/Praktikum-Struktur-Data/blob/main/Graph_Tugas.ipynb\" target=\"_parent\"><img src=\"https://colab.research.google.com/assets/colab-badge.svg\" alt=\"Open In Colab\"/></a>"
      ]
    },
    {
      "cell_type": "markdown",
      "source": [
        "TUIGAS\n",
        "\n",
        "1. Buatlah graf tak berarah baru dengan minimal 5 simpul dan 7 sisi, lalu tampilkan\n",
        "dengan fungsi print_graph.\n",
        "2. Implementasikan BFS dan DFS dari simpul awal pilihan Anda.\n",
        "3. Modifikasi fungsi BFS agar mengembalikan list urutan kunjungan, bukan hanya\n",
        "mencetak.\n",
        "4. Buat fungsi find_path(graph, start, end) yang mengembalikan satu jalur dari start\n",
        "ke end jika ada, menggunakan DFS.\n",
        "5. Tambahkan fungsi is_connected(graph) untuk mengecek apakah semua simpul\n",
        "dalam graf saling terhubung (gunakan kombinasi DFS + logika).\n"
      ],
      "metadata": {
        "id": "MBqDqJ-aYDQR"
      }
    },
    {
      "cell_type": "code",
      "source": [
        "# Membuat graf tak berarah dengan 5 simpul dan 7 sisi\n",
        "graph = {\n",
        "   1: [2, 3],\n",
        "        2: [1, 4, 5],\n",
        "        3: [1, 5],\n",
        "        4: [2, 5],\n",
        "        5: [2, 3, 4]\n",
        "}\n",
        "\n",
        "# Menampilkan graf\n",
        "def print_graph(graph):\n",
        "    print(\"Graf (Tak Berarah):\")\n",
        "    for node in graph:\n",
        "        print(f\"{node} -> {graph[node]}\")\n",
        "\n",
        "print_graph(graph)\n",
        "\n",
        "# Implementasi BFS\n",
        "from collections import deque\n",
        "\n",
        "def bfs(graph, start):\n",
        "  visited = set()\n",
        "  queue = deque ([start])\n",
        "\n",
        "  while queue:\n",
        "    vertex = queue.popleft()\n",
        "    if vertex not in visited:\n",
        "      print(vertex, end=\" \")\n",
        "      visited.add(vertex)\n",
        "      queue.extend([neighbor for neighbor in graph[vertex] if neighbor not in visited])\n",
        "\n",
        "print(\"\\nBFS: \")\n",
        "bfs(graph, 1)\n",
        "\n",
        "# Implementasi DFS\n",
        "def dfs(graph, start, visited=None):\n",
        "    if visited is None:\n",
        "        visited = set()\n",
        "\n",
        "    if start not in visited:\n",
        "        print(start, end=\" \")\n",
        "        visited.add(start)\n",
        "        for neighbor in graph[start]:\n",
        "          dfs(graph, neighbor, visited)\n",
        "\n",
        "    return visited\n",
        "print(\"\\n\")\n",
        "print(\"DFS: \")\n",
        "dfs(graph, 1)\n",
        "\n",
        "# BFS yang mengembalikan list urutan kunjungan\n",
        "def bfs_list(graph, start):\n",
        "    visited = set()\n",
        "    queue = deque([start])\n",
        "    traversal = []\n",
        "\n",
        "    while queue:\n",
        "        vertex = queue.popleft()\n",
        "        if vertex not in visited:\n",
        "            traversal.append(vertex)\n",
        "            visited.add(vertex)\n",
        "            queue.extend([neighbor for neighbor in graph[vertex]if neighbor not in visited])\n",
        "\n",
        "    return traversal\n",
        "print(\"\\n\")\n",
        "print(\"BFS list: \", bfs_list(graph, 1))\n",
        "\n",
        "# Find_path menggunakan DFS\n",
        "def find_path(graph, start, end, path=None, visited=None):\n",
        "    if path is None:\n",
        "        path = []\n",
        "    if visited is None:\n",
        "        visited = set()\n",
        "\n",
        "    path.append(start)\n",
        "    visited.add(start)\n",
        "\n",
        "    if start == end:\n",
        "        return path\n",
        "\n",
        "    for neighbor in graph[start]:\n",
        "      if neighbor not in visited:\n",
        "        result = find_path(graph, neighbor, end, path.copy(), visited.copy())\n",
        "        if result:\n",
        "            return result\n",
        "    return None\n",
        "\n",
        "print(\"\\nPath dari 1 ke 4: \", find_path(graph, 1, 4))\n",
        "\n",
        "# Mengecek apakah graf terhubung\n",
        "def is_connected(graph):\n",
        "    start_node = next(iter(graph))\n",
        "    visited = dfs(graph, start_node)\n",
        "    return len(visited) == len(graph)\n",
        "\n",
        "print(\"\\nDFS: \")\n",
        "print(\"Apakah graf terhubung? \", is_connected(graph))"
      ],
      "metadata": {
        "colab": {
          "base_uri": "https://localhost:8080/"
        },
        "id": "NCzMmNwyrqBm",
        "outputId": "d8613f4f-338b-45a4-b916-b4bedde5abea"
      },
      "execution_count": null,
      "outputs": [
        {
          "output_type": "stream",
          "name": "stdout",
          "text": [
            "Graf (Tak Berarah):\n",
            "1 -> [2, 3]\n",
            "2 -> [1, 4, 5]\n",
            "3 -> [1, 5]\n",
            "4 -> [2, 5]\n",
            "5 -> [2, 3, 4]\n",
            "\n",
            "BFS: \n",
            "1 2 3 4 5 \n",
            "\n",
            "DFS: \n",
            "1 2 4 5 3 \n",
            "\n",
            "BFS list:  [1, 2, 3, 4, 5]\n",
            "\n",
            "Path dari 1 ke 4:  [1, 2, 4]\n",
            "\n",
            "DFS: \n",
            "1 2 4 5 3 Apakah graf terhubung?  True\n"
          ]
        }
      ]
    }
  ]
}