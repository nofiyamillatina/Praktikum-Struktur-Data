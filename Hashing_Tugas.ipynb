{
  "nbformat": 4,
  "nbformat_minor": 0,
  "metadata": {
    "colab": {
      "provenance": [],
      "authorship_tag": "ABX9TyOFx5hnjHxCnrlt/yjYsjgj",
      "include_colab_link": true
    },
    "kernelspec": {
      "name": "python3",
      "display_name": "Python 3"
    },
    "language_info": {
      "name": "python"
    }
  },
  "cells": [
    {
      "cell_type": "markdown",
      "metadata": {
        "id": "view-in-github",
        "colab_type": "text"
      },
      "source": [
        "<a href=\"https://colab.research.google.com/github/nofiyamillatina/Praktikum-Struktur-Data/blob/main/Hashing_Tugas.ipynb\" target=\"_parent\"><img src=\"https://colab.research.google.com/assets/colab-badge.svg\" alt=\"Open In Colab\"/></a>"
      ]
    },
    {
      "cell_type": "markdown",
      "source": [
        "1. Eksperimen Sederhana Linear Probing\n",
        "\n",
        "Modifikasi kode LinearProbingHashTable dengan menambahkan 5 data ke dalam tabel\n",
        "yang berukuran 5.\n",
        "\n",
        "Instruksi:\n",
        "\n",
        "a. Buat objek LinearProbingHashTable dengan ukuran tabel 5.\n",
        "\n",
        "b. Masukkan pasangan key-value berikut:\n",
        "\n",
        "\"A\": 10, \"B\": 20, \"C\": 30, \"D\": 40, \"E\": 50\n",
        "\n",
        "c. Cetak isi array self.table setelah semua data dimasukkan.\n",
        "\n",
        "d. Jelaskan apa yang terjadi jika dua key memiliki hasil hash yang sama."
      ],
      "metadata": {
        "id": "9c9Hq5c8fKD5"
      }
    },
    {
      "cell_type": "code",
      "source": [
        "\n",
        "# Penanganan Collision dengan Linear Probing\n",
        "class LinearProbingHashTable:\n",
        "  def __init__ (self, size):\n",
        "      self.size = size\n",
        "      self.table = [None] * size\n",
        "\n",
        "  def hash_function(self, key):\n",
        "      return hash(key) % self.size\n",
        "\n",
        "  def insert(self, key, value):\n",
        "      index = self.hash_function(key)\n",
        "      original_index = index\n",
        "\n",
        "      while self.table[index] is not None:\n",
        "        if self.table[index][0] == key:\n",
        "          break\n",
        "        index = (index + 1) % self.size\n",
        "        if index == original_index:\n",
        "          raise Exception(\"Hash table penuh\")\n",
        "\n",
        "      self.table[index] = (key, value)\n",
        "\n",
        "  def search(self, key):\n",
        "    index = self.hash_function(key)\n",
        "    original_index = index\n",
        "\n",
        "    while self.table[index] is not None:\n",
        "      if self.table[index] [0] == key:\n",
        "        return self.table[index] [1]\n",
        "      index = (index + 1) % self.size\n",
        "      if index == original_index:\n",
        "        break\n",
        "    return None\n",
        "\n",
        "# Contoh penggunaan\n",
        "ht = LinearProbingHashTable(5)\n",
        "ht.insert(\"A\", 10)\n",
        "ht.insert(\"B\", 20)\n",
        "ht.insert(\"C\", 30)\n",
        "ht.insert(\"D\", 40)\n",
        "ht.insert(\"E\", 50)\n",
        "\n",
        "print(\"Cetak isi array:\", ht.table)"
      ],
      "metadata": {
        "colab": {
          "base_uri": "https://localhost:8080/"
        },
        "id": "rf7xMwASXHf7",
        "outputId": "03faac62-2c6e-4464-d168-4cb49dd23c8a"
      },
      "execution_count": 3,
      "outputs": [
        {
          "output_type": "stream",
          "name": "stdout",
          "text": [
            "Cetak isi array: [('D', 40), ('A', 10), ('E', 50), ('B', 20), ('C', 30)]\n"
          ]
        }
      ]
    },
    {
      "cell_type": "markdown",
      "source": [
        "2. Percobaan Dasar Chaining\n",
        "\n",
        "Gunakan ChainingHashTable untuk menyisipkan beberapa data yang menghasilkan\n",
        "collision.\n",
        "\n",
        "Instruksi:\n",
        "\n",
        "a. Gunakan ukuran tabel 3.\n",
        "\n",
        "b. Masukkan key-value berikut:\n",
        "\n",
        "\"apel\": 100, \"melon\": 200, \"lemon\": 300, \"pisang\": 400\n",
        "\n",
        "c. Cetak isi tabel (self.table) dan tampilkan semua data yang disimpan di setiap slot.\n",
        "\n",
        "d. Jelaskan bagaimana collision ditangani dalam metode chaining.\n"
      ],
      "metadata": {
        "id": "BnjntRAJftP4"
      }
    },
    {
      "cell_type": "code",
      "source": [
        "# Penanganan Collision dengan Chaining\n",
        "class ChainingHashTable:\n",
        "  def __init__ (self, size):\n",
        "    self.size = size\n",
        "    self.table = [[] for _ in range(size)]\n",
        "\n",
        "  def hash_function(self, key):\n",
        "    return hash(key) % self.size\n",
        "\n",
        "  def insert(self, key, value):\n",
        "    index = self.hash_function(key)\n",
        "    for i, (k, v) in enumerate(self.table[index]):\n",
        "      if k == key:\n",
        "        self.table[index][i] = (key, value)\n",
        "        return\n",
        "    self.table[index].append((key, value))\n",
        "\n",
        "  def search(self, key):\n",
        "    index = self.hash_function(key)\n",
        "    for k, v  in self.table[index]:\n",
        "      if k == key:\n",
        "        return v\n",
        "    return None\n",
        "\n",
        "# Contoh penggunaan\n",
        "ht = ChainingHashTable(3)\n",
        "ht.insert(\"Apel\", 100)\n",
        "ht.insert(\"Melon\", 200)\n",
        "ht.insert(\"Lemon\", 300)\n",
        "ht.insert(\"Pisang\", 400)\n",
        "\n",
        "print(\"Cetak isi table:\", ht.table)"
      ],
      "metadata": {
        "colab": {
          "base_uri": "https://localhost:8080/"
        },
        "id": "nLUhXBcrZvk5",
        "outputId": "c5e1de94-6a3b-4d40-f306-eef11700f640"
      },
      "execution_count": 5,
      "outputs": [
        {
          "output_type": "stream",
          "name": "stdout",
          "text": [
            "Cetak isi table: [[('Apel', 100), ('Melon', 200), ('Lemon', 300)], [], [('Pisang', 400)]]\n"
          ]
        }
      ]
    }
  ]
}