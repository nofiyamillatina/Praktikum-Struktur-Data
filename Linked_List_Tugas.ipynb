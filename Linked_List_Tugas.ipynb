{
  "nbformat": 4,
  "nbformat_minor": 0,
  "metadata": {
    "colab": {
      "provenance": [],
      "authorship_tag": "ABX9TyMmVrDB+u5Opv+e8gUf18gC",
      "include_colab_link": true
    },
    "kernelspec": {
      "name": "python3",
      "display_name": "Python 3"
    },
    "language_info": {
      "name": "python"
    }
  },
  "cells": [
    {
      "cell_type": "markdown",
      "metadata": {
        "id": "view-in-github",
        "colab_type": "text"
      },
      "source": [
        "<a href=\"https://colab.research.google.com/github/nofiyamillatina/Praktikum-Struktur-Data/blob/main/Linked_List_Tugas.ipynb\" target=\"_parent\"><img src=\"https://colab.research.google.com/assets/colab-badge.svg\" alt=\"Open In Colab\"/></a>"
      ]
    },
    {
      "cell_type": "code",
      "execution_count": 1,
      "metadata": {
        "colab": {
          "base_uri": "https://localhost:8080/"
        },
        "id": "hHYn8gcwxRzv",
        "outputId": "d1995b21-7b81-43e4-8136-ff2d93e5e655"
      },
      "outputs": [
        {
          "output_type": "stream",
          "name": "stdout",
          "text": [
            "Masukkan nama satpam ke-1: Zahra\n",
            "Masukkan nama satpam ke-2: Hani\n",
            "Masukkan nama satpam ke-3: Chanif\n",
            "Masukkan nama satpam ke-4: Fiya\n",
            "\n",
            "Jadwal Piket Satpam Selama 2 Minggu:\n",
            "Hari 1: Zahra\n",
            "Hari 2: Hani\n",
            "Hari 3: Chanif\n",
            "Hari 4: Fiya\n",
            "Hari 5: Zahra\n",
            "Hari 6: Hani\n",
            "Hari 7: Chanif\n",
            "Hari 8: Fiya\n",
            "Hari 9: Zahra\n",
            "Hari 10: Hani\n",
            "Hari 11: Chanif\n",
            "Hari 12: Fiya\n",
            "Hari 13: Zahra\n",
            "Hari 14: Hani\n"
          ]
        }
      ],
      "source": [
        "class Node:\n",
        "    def __init__(self, nama):\n",
        "        self.nama = nama\n",
        "        self.next = None\n",
        "\n",
        "class CircularLinkedList:\n",
        "    def __init__(self):\n",
        "        self.head = None\n",
        "        self.current = None\n",
        "\n",
        "    def tambah_satpam(self, nama):\n",
        "        satpam_baru = Node(nama)\n",
        "        if not self.head:\n",
        "            self.head = satpam_baru\n",
        "            self.head.next = self.head\n",
        "            self.current = self.head\n",
        "        else:\n",
        "            satpam_baru.next = self.head\n",
        "            temp = self.head\n",
        "            while temp.next != self.head:\n",
        "                temp = temp.next\n",
        "            temp.next = satpam_baru\n",
        "            if not self.current:\n",
        "                self.current = self.head\n",
        "\n",
        "    def cetak_jadwal(self, jumlah_hari):\n",
        "        print(\"\\nJadwal Piket Satpam Selama 2 Minggu:\")\n",
        "        for hari in range(1, jumlah_hari + 1):\n",
        "            print(f\"Hari {hari}: {self.current.nama}\")\n",
        "            self.current = self.current.next\n",
        "\n",
        "# Program Utama\n",
        "satpam_list = CircularLinkedList()\n",
        "\n",
        "for i in range(1, 5):\n",
        "    nama = input(f\"Masukkan nama satpam ke-{i}: \")\n",
        "    satpam_list.tambah_satpam(nama)\n",
        "\n",
        "satpam_list.cetak_jadwal(14)"
      ]
    }
  ]
}