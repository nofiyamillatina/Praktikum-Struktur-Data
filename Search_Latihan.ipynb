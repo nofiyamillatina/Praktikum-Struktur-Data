{
  "nbformat": 4,
  "nbformat_minor": 0,
  "metadata": {
    "colab": {
      "provenance": [],
      "authorship_tag": "ABX9TyMlG1OmdCL/d+yrGbD9Xm68",
      "include_colab_link": true
    },
    "kernelspec": {
      "name": "python3",
      "display_name": "Python 3"
    },
    "language_info": {
      "name": "python"
    }
  },
  "cells": [
    {
      "cell_type": "markdown",
      "metadata": {
        "id": "view-in-github",
        "colab_type": "text"
      },
      "source": [
        "<a href=\"https://colab.research.google.com/github/nofiyamillatina/Praktikum-Struktur-Data/blob/main/Search_Latihan.ipynb\" target=\"_parent\"><img src=\"https://colab.research.google.com/assets/colab-badge.svg\" alt=\"Open In Colab\"/></a>"
      ]
    },
    {
      "cell_type": "code",
      "execution_count": null,
      "metadata": {
        "colab": {
          "base_uri": "https://localhost:8080/"
        },
        "id": "GePFkrcFo8PH",
        "outputId": "4eff96da-54db-437f-ee60-b13ad5113a8c"
      },
      "outputs": [
        {
          "output_type": "stream",
          "name": "stdout",
          "text": [
            "Masukkan 3 digit terakhir NPM anda: 026\n",
            "Elemen ditemukan pada indeks 6\n"
          ]
        }
      ],
      "source": [
        "def linier_search(arr, target):\n",
        "  for i in range(len(arr)):\n",
        "    if arr[i] == target:\n",
        "      return i\n",
        "  return -1\n",
        "\n",
        "# Gantilah dengan angka acak dan NPM anda\n",
        "arr = [12, 45, 78, 23, 56, 89, 26, 67, 90, 11]\n",
        "target = int(input(\"Masukkan 3 digit terakhir NPM anda: \"))\n",
        "\n",
        "result = linier_search(arr, target)\n",
        "\n",
        "if result != -1:\n",
        "  print(f\"Elemen ditemukan pada indeks {result}\")\n",
        "else:\n",
        "  print(\"Elemen tidak ditemukan\")"
      ]
    },
    {
      "cell_type": "code",
      "source": [
        "def binary_search(arr, target):\n",
        "  low = 0\n",
        "  high = len(arr) - 1\n",
        "\n",
        "  while low<= high:\n",
        "    mid = (low + high) // 2\n",
        "    if arr[mid] == target:\n",
        "      return mid\n",
        "    elif arr[mid] < target:\n",
        "      low = mid + 1\n",
        "    else:\n",
        "      high = mid - 1\n",
        "\n",
        "  return -1\n",
        "\n",
        "# Gantilah dengan angka terurut dan tanggal lahir anda (DDMM)\n",
        "arr = [1010, 1202, 1405, 1507, 2508, 3067, 3487, 9987]\n",
        "target = int(input(\"Masukkan tanggal lahir anda (DDMM): \"))\n",
        "\n",
        "result = binary_search(arr, target)\n",
        "\n",
        "if result != -1:\n",
        "  print(f\"Elemen ditemukan pada indeks {result}\")\n",
        "else:\n",
        "  print(\"Elemen tidak ditemukan\")\n"
      ],
      "metadata": {
        "colab": {
          "base_uri": "https://localhost:8080/"
        },
        "id": "8oLpbeeesOMQ",
        "outputId": "5fdf772f-1828-4cb1-e807-320caf4b8f4f"
      },
      "execution_count": null,
      "outputs": [
        {
          "output_type": "stream",
          "name": "stdout",
          "text": [
            "Masukkan tanggal lahir anda (DDMM): 1507\n",
            "Elemen ditemukan pada indeks 3\n"
          ]
        }
      ]
    },
    {
      "cell_type": "code",
      "source": [
        "import math\n",
        "\n",
        "def jump_search(arr, target):\n",
        "  n = len(arr)\n",
        "  step = int(math.sqrt(n))\n",
        "  prev = 0\n",
        "\n",
        "  while arr[min(step, n) - 1] < target:\n",
        "    prev = step\n",
        "    step += int(math.sqrt(n))\n",
        "    if prev >= n:\n",
        "      return -1\n",
        "\n",
        "  for i in range(prev, min(step, n)):\n",
        "    if arr[i] == target:\n",
        "      return i\n",
        "\n",
        "  return -1\n",
        "\n",
        "# Gantilah dengan daftar nama teman teman anda dalam urutan alfabet\n",
        "arr = [\"Afa\", \"Bella\", \"Candra\", \"Dilla\", \"Fiyakk\", \"Indra\", \"Rina\", \"Zahra\"]\n",
        "target = input(\"Masukkan nama anda: \")\n",
        "\n",
        "result = jump_search(arr, target)\n",
        "\n",
        "if result != -1:\n",
        "  print(f\"Elemen ditemukan pada indeks {result}\")\n",
        "else:\n",
        "  print(\"Elemen tidak ditemukan\")\n"
      ],
      "metadata": {
        "colab": {
          "base_uri": "https://localhost:8080/"
        },
        "id": "lYjNhaxEuyI4",
        "outputId": "cc9dd614-5e94-4fd7-97f9-fefd023bea0a"
      },
      "execution_count": null,
      "outputs": [
        {
          "output_type": "stream",
          "name": "stdout",
          "text": [
            "Masukkan nama anda: Fiyakk\n",
            "Elemen ditemukan pada indeks 4\n"
          ]
        }
      ]
    },
    {
      "cell_type": "markdown",
      "source": [
        "# Tugas\n"
      ],
      "metadata": {
        "id": "gBreSftgzne-"
      }
    },
    {
      "cell_type": "code",
      "source": [
        "import random\n",
        "import math\n",
        "from tabulate import tabulate\n",
        "\n",
        "def linear_search(arr, target):\n",
        "    perb = 0\n",
        "    for angka in range(len(arr)):\n",
        "        perb += 1\n",
        "        if angka == target:\n",
        "            return perb\n",
        "    return perb\n",
        "\n",
        "def binary_search(arr, target):\n",
        "    perb = 0\n",
        "    low, high = 0, len(arr) - 1\n",
        "    while low <= high:\n",
        "        mid = (low + high) // 2\n",
        "        perb += 1\n",
        "        if arr[mid] == target:\n",
        "            return perb\n",
        "        elif arr[mid] < target:\n",
        "            low = mid + 1\n",
        "        else:\n",
        "            high = mid - 1\n",
        "    return perb\n",
        "\n",
        "def jump_search(arr, target):\n",
        "    perb = 0\n",
        "    n = len(arr)\n",
        "    step = int(math.sqrt(n))\n",
        "    low, high = 0, step\n",
        "    while low < n and arr[low] <= target:\n",
        "        perb += 1\n",
        "        if arr[low] == target:\n",
        "            return perb\n",
        "        low, high = high, high + step\n",
        "\n",
        "    low = high - step\n",
        "    while low < min(high, n):\n",
        "        perb += 1\n",
        "        if arr[low] == target:\n",
        "            return perb\n",
        "        low += 1\n",
        "    return perb\n",
        "\n",
        "# 1. Buat daftar acak dan urutkan\n",
        "arr = sorted(random.sample(range(1, 1001), 100))\n",
        "\n",
        "# 3. Tentukan target (elemen tengah)\n",
        "target = arr[len(arr) // 2]\n",
        "\n",
        "# Cetak 100 angka dalam daftar\n",
        "print(\"Daftar 100 angka:\")\n",
        "print(arr)\n",
        "\n",
        "# 4. Implementasi dan cetak hasil (jumlah perbandingan)\n",
        "linear_perb = linear_search(arr, target)\n",
        "binary_perb = binary_search(arr, target)\n",
        "jump_perb = jump_search(arr, target)\n",
        "\n",
        "data = [\n",
        "    [\"Linear Search\", linear_perb],\n",
        "    [\"Binary Search\", binary_perb],\n",
        "    [\"Jump Search\", jump_perb]\n",
        "]\n",
        "\n",
        "table = tabulate(data, headers=[\"Algoritma Pencarian\", \"Jumlah Perbandingan\"], tablefmt=\"double_grid\")\n",
        "print(table)\n",
        "\n",
        "# perb = Perbandingan"
      ],
      "metadata": {
        "colab": {
          "base_uri": "https://localhost:8080/"
        },
        "id": "FxCuLHLIMfxo",
        "outputId": "4e6c953c-5fb3-43c6-e1a1-7fbccee60b2f"
      },
      "execution_count": 15,
      "outputs": [
        {
          "output_type": "stream",
          "name": "stdout",
          "text": [
            "Daftar 100 angka:\n",
            "[10, 27, 34, 51, 72, 73, 79, 89, 97, 99, 103, 109, 114, 118, 147, 151, 160, 184, 187, 200, 212, 215, 216, 234, 238, 242, 252, 257, 261, 265, 267, 273, 282, 290, 297, 298, 315, 324, 360, 380, 385, 389, 412, 437, 467, 468, 476, 480, 487, 491, 513, 515, 522, 536, 541, 542, 555, 573, 590, 605, 616, 625, 635, 636, 649, 660, 666, 681, 699, 735, 741, 746, 767, 771, 783, 789, 797, 810, 814, 827, 831, 832, 835, 854, 859, 874, 892, 900, 906, 909, 919, 936, 942, 943, 945, 946, 948, 959, 967, 984]\n",
            "╔═══════════════════════╦═══════════════════════╗\n",
            "║ Algoritma Pencarian   ║   Jumlah Perbandingan ║\n",
            "╠═══════════════════════╬═══════════════════════╣\n",
            "║ Linear Search         ║                   100 ║\n",
            "╠═══════════════════════╬═══════════════════════╣\n",
            "║ Binary Search         ║                     6 ║\n",
            "╠═══════════════════════╬═══════════════════════╣\n",
            "║ Jump Search           ║                     6 ║\n",
            "╚═══════════════════════╩═══════════════════════╝\n"
          ]
        }
      ]
    }
  ]
}