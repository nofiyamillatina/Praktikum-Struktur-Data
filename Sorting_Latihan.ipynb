{
  "nbformat": 4,
  "nbformat_minor": 0,
  "metadata": {
    "colab": {
      "provenance": [],
      "collapsed_sections": [
        "_bZcpwOTysvA"
      ],
      "authorship_tag": "ABX9TyOPtCAh1TnvjVaah8lVQOxw",
      "include_colab_link": true
    },
    "kernelspec": {
      "name": "python3",
      "display_name": "Python 3"
    },
    "language_info": {
      "name": "python"
    }
  },
  "cells": [
    {
      "cell_type": "markdown",
      "metadata": {
        "id": "view-in-github",
        "colab_type": "text"
      },
      "source": [
        "<a href=\"https://colab.research.google.com/github/nofiyamillatina/Praktikum-Struktur-Data/blob/main/Sorting_Latihan.ipynb\" target=\"_parent\"><img src=\"https://colab.research.google.com/assets/colab-badge.svg\" alt=\"Open In Colab\"/></a>"
      ]
    },
    {
      "cell_type": "code",
      "execution_count": null,
      "metadata": {
        "colab": {
          "base_uri": "https://localhost:8080/"
        },
        "id": "u2sk5H3JpcrF",
        "outputId": "a1bc864b-1e50-4560-f6ef-218d96c5be6b"
      },
      "outputs": [
        {
          "output_type": "stream",
          "name": "stdout",
          "text": [
            "Data sebelum sorting: [64, 34, 25, 12, 22, 11, 90]\n",
            "Data setelah sorting: [11, 12, 22, 25, 34, 64, 90]\n"
          ]
        }
      ],
      "source": [
        "def bubble_sort(arr):\n",
        "  n = len(arr)\n",
        "  for i in range(n - 1):\n",
        "    for j in range (n - i - 1):\n",
        "      if arr[j] > arr[j + 1]:\n",
        "        arr[j], arr[j + 1] = arr[j + 1], arr[j]\n",
        "\n",
        "  return arr\n",
        "\n",
        "# Contoh penggunaan\n",
        "data = [64, 34, 25, 12, 22, 11, 90]\n",
        "sorted_data = bubble_sort(data.copy())  # Menggunakan copy agar data asli tidak berubah\n",
        "print(\"Data sebelum sorting:\", data)\n",
        "print(\"Data setelah sorting:\", sorted_data)"
      ]
    },
    {
      "cell_type": "code",
      "source": [
        "def selection_sort(arr):\n",
        "  n = len(arr)\n",
        "  for i in range(n - 1):\n",
        "    min_index = i\n",
        "    for j in range(i + 1, n):\n",
        "      if arr[j] < arr[min_index]:\n",
        "        min_index = j\n",
        "    arr[i], arr[min_index] = arr[min_index], arr[i]\n",
        "  return arr\n",
        "\n",
        "# Contoh penggunaan\n",
        "data = [64, 25, 12, 22, 11]\n",
        "sorted_data = selection_sort(data.copy())\n",
        "print(\"Data sebelum sorting:\", data)\n",
        "print(\"Data setelah Selection Sort:\", sorted_data)"
      ],
      "metadata": {
        "colab": {
          "base_uri": "https://localhost:8080/"
        },
        "id": "SaETyQvJuLmS",
        "outputId": "1c767018-c62a-46cf-e9c0-772168085bf1"
      },
      "execution_count": null,
      "outputs": [
        {
          "output_type": "stream",
          "name": "stdout",
          "text": [
            "Data sebelum sorting: [64, 25, 12, 22, 11]\n",
            "Data setelah Selection Sort: [11, 12, 22, 25, 64]\n"
          ]
        }
      ]
    },
    {
      "cell_type": "code",
      "source": [
        "def insertion_sort(arr):\n",
        "  n = len(arr)\n",
        "  for i in range(1, n):\n",
        "      key = arr[i]\n",
        "      j = i - 1\n",
        "      while j >= 0 and arr[j] > key:\n",
        "          arr[j + 1] = arr[j]\n",
        "          j -= 1\n",
        "      arr[j + 1] = key\n",
        "  return arr\n",
        "\n",
        "# Contoh penggunaan\n",
        "data = [64, 34, 25, 12, 22, 11, 90]\n",
        "sorted_data = insertion_sort(data.copy())\n",
        "print(\"Data sebelum sorting:\", data)\n",
        "print(\"Data setelah Insertion Sort:\", sorted_data)"
      ],
      "metadata": {
        "colab": {
          "base_uri": "https://localhost:8080/"
        },
        "id": "xwMec_bWvnna",
        "outputId": "97650887-6951-45f5-fe60-1d0ed032d08a"
      },
      "execution_count": null,
      "outputs": [
        {
          "output_type": "stream",
          "name": "stdout",
          "text": [
            "Data sebelum sorting: [64, 34, 25, 12, 22, 11, 90]\n",
            "Data setelah Insertion Sort: [11, 12, 22, 25, 34, 64, 90]\n"
          ]
        }
      ]
    },
    {
      "cell_type": "code",
      "source": [
        "def merge_sort(arr):\n",
        "  if len(arr) > 1:\n",
        "    mid = len (arr) // 2\n",
        "    left_half = arr[:mid]\n",
        "    right_half = arr[mid:]\n",
        "\n",
        "    merge_sort(left_half)\n",
        "    merge_sort(right_half)\n",
        "\n",
        "    i = j = k = 0\n",
        "\n",
        "    while i < len(left_half) and j < len(right_half):\n",
        "      if left_half[i] < right_half[j]:\n",
        "        arr[k] = left_half[i]\n",
        "        i += 1\n",
        "      else:\n",
        "        arr[k] = right_half[j]\n",
        "        j += 1\n",
        "        k += 1\n",
        "\n",
        "    while i < len(left_half):\n",
        "      arr[k] = left_half[i]\n",
        "      i += 1\n",
        "      k += 1\n",
        "\n",
        "    while j < len(right_half):\n",
        "      arr[k] = right_half[j]\n",
        "      j += 1\n",
        "      k += 1\n",
        "\n",
        "  return arr\n",
        "\n",
        "# Contoh Pengguna\n",
        "data = [64, 25, 12, 22, 11]\n",
        "sorted_data = merge_sort(data.copy())\n",
        "print(\"Data sebelum sorting:\", data)\n",
        "print(\"Data setelah Merge Sort:\", sorted_data)"
      ],
      "metadata": {
        "colab": {
          "base_uri": "https://localhost:8080/"
        },
        "id": "8i-aCFaAyh2a",
        "outputId": "a7560a46-70c6-4f62-8879-c1173dc7fdf4"
      },
      "execution_count": null,
      "outputs": [
        {
          "output_type": "stream",
          "name": "stdout",
          "text": [
            "Data sebelum sorting: [64, 25, 12, 22, 11]\n",
            "Data setelah Merge Sort: [11, 22, 11, 25, 64]\n"
          ]
        }
      ]
    },
    {
      "cell_type": "code",
      "source": [
        "def quick_sort(arr):\n",
        "  if len(arr) <= 1 :\n",
        "      return arr\n",
        "\n",
        "  pivot = arr[len(arr) // 2]\n",
        "  left = [x for x in arr if x < pivot]\n",
        "  middle = [x for x in arr if x == pivot]\n",
        "  right = [x for x in arr if x > pivot]\n",
        "\n",
        "  return quick_sort(left) + middle + quick_sort(right)\n",
        "\n",
        "# Contoh pengguna\n",
        "data = [64, 25, 12, 22, 11]\n",
        "sorted_data = quick_sort(data.copy())\n",
        "print(\"Data sebelum sorting:\", data)\n",
        "print(\"Data setelah Quick Sort:\", sorted_data)"
      ],
      "metadata": {
        "colab": {
          "base_uri": "https://localhost:8080/"
        },
        "id": "y5kioxWt1PQf",
        "outputId": "91e46e61-da07-4e53-a7e0-e9f93164c2c9"
      },
      "execution_count": null,
      "outputs": [
        {
          "output_type": "stream",
          "name": "stdout",
          "text": [
            "Data sebelum sorting: [64, 25, 12, 22, 11]\n",
            "Data setelah Quick Sort: [11, 12, 22, 25, 64]\n"
          ]
        }
      ]
    },
    {
      "cell_type": "markdown",
      "source": [
        "# Tugas"
      ],
      "metadata": {
        "id": "_bZcpwOTysvA"
      }
    },
    {
      "cell_type": "markdown",
      "source": [
        " Optimasi Pencarian Produk di Marketplace (Rombel 02)\n",
        "\n",
        "• Marketplace sering menampilkan produk berdasarkan harga terendah hingga\n",
        "tertinggi atau berdasarkan rating pelanggan. Buat program yang mengurutkan\n",
        "daftar produk menggunakan algoritma sorting."
      ],
      "metadata": {
        "id": "kVay_oikyv0v"
      }
    },
    {
      "cell_type": "code",
      "source": [
        "def selection_sort_harga(daftar_produk):\n",
        "    n = len(daftar_produk)\n",
        "    for i in range(n):\n",
        "        indeks_minimum = i\n",
        "        for j in range(i + 1, n):\n",
        "            if float(daftar_produk[j]['harga']) < float(daftar_produk[indeks_minimum]['harga']):\n",
        "                indeks_minimum = j\n",
        "        # Tukar elemen minimum dengan elemen saat ini\n",
        "        daftar_produk[i], daftar_produk[indeks_minimum] = daftar_produk[indeks_minimum], daftar_produk[i]\n",
        "\n",
        "    return daftar_produk\n",
        "\n",
        "# Contoh penggunaan:\n",
        "daftar_produk = [\n",
        "    {\"nama\": \"Lighstick\", \"harga\": \"800.000\"},\n",
        "    {\"nama\": \"Photocard\", \"harga\": \"230.000\"},\n",
        "    {\"nama\": \"Album\", \"harga\": \"550.000\"},\n",
        "    {\"nama\": \"Keychain\", \"harga\": \"120.000\"},\n",
        "]\n",
        "\n",
        "\n",
        "print(\"Daftar Produk Sebelum Diurutkan:\")\n",
        "for produk in daftar_produk:\n",
        "    print(f\"- {produk['nama']}: Rp {produk['harga']}\")\n",
        "\n",
        "daftar_terurut_harga_selectionsort = selection_sort_harga(daftar_produk)\n",
        "\n",
        "print(\"\\nDaftar Produk Setelah Diurutkan Berdasarkan Harga (Selection Sort):\")\n",
        "if daftar_terurut_harga_selectionsort:\n",
        "    for produk in daftar_terurut_harga_selectionsort:\n",
        "        print(f\"- {produk['nama']}: Rp {produk['harga']}\")"
      ],
      "metadata": {
        "colab": {
          "base_uri": "https://localhost:8080/"
        },
        "outputId": "dd7a4fb0-e890-4907-e441-5fa20c1293ab",
        "id": "Netc-NDeQX9t"
      },
      "execution_count": 1,
      "outputs": [
        {
          "output_type": "stream",
          "name": "stdout",
          "text": [
            "Daftar Produk Sebelum Diurutkan:\n",
            "- Lighstick: Rp 800.000\n",
            "- Photocard: Rp 230.000\n",
            "- Album: Rp 550.000\n",
            "- Keychain: Rp 120.000\n",
            "\n",
            "Daftar Produk Setelah Diurutkan Berdasarkan Harga (Selection Sort):\n",
            "- Keychain: Rp 120.000\n",
            "- Photocard: Rp 230.000\n",
            "- Album: Rp 550.000\n",
            "- Lighstick: Rp 800.000\n"
          ]
        }
      ]
    },
    {
      "cell_type": "markdown",
      "source": [
        "Kode program dengan perintah input barang oleh pengguna"
      ],
      "metadata": {
        "id": "0RSEs93gTeor"
      }
    },
    {
      "cell_type": "code",
      "source": [
        "def selection_sort_harga(daftar_produk):\n",
        "    n = len(daftar_produk)\n",
        "    for i in range(n):\n",
        "        indeks_minimum = i\n",
        "        for j in range(i + 1, n):\n",
        "            if float(daftar_produk[j]['harga']) < float(daftar_produk[indeks_minimum]['harga']):\n",
        "                indeks_minimum = j\n",
        "        # Tukar elemen minimum dengan elemen saat ini\n",
        "        daftar_produk[i], daftar_produk[indeks_minimum] = daftar_produk[indeks_minimum], daftar_produk[i]\n",
        "\n",
        "    return daftar_produk\n",
        "\n",
        "# Contoh penggunaan\n",
        "daftar_produk = []\n",
        "jumlah_produk = int(input(\"Masukkan jumlah produk yang ingin dimasukkan: \"))\n",
        "try:\n",
        "    jumlah = int(jumlah_produk)\n",
        "    if jumlah <= 0:\n",
        "        print(\"Jumlah produk harus lebih dari nol.\")\n",
        "    else:\n",
        "        for i in range(jumlah):\n",
        "            nama = input(f\"Masukkan nama produk ke-{i+1}: \")\n",
        "            harga_str = input(f\"Masukkan harga produk {nama}: \")\n",
        "            try:\n",
        "                harga = float(harga_str)\n",
        "                daftar_produk.append({\"nama\": nama, \"harga\": float(harga)})\n",
        "            except ValueError:\n",
        "                print(\"Harga harus berupa angka. Produk ini akan dilewati.\")\n",
        "except ValueError:\n",
        "    print(\"Jumlah produk harus berupa angka.\")\n",
        "\n",
        "print(\"\\nDaftar Produk Sebelum Diurutkan:\")\n",
        "for produk in daftar_produk:\n",
        "    print(f\"- {produk['nama']}: Rp {produk['harga']}\")\n",
        "\n",
        "if daftar_produk:\n",
        "    daftar_terurut_harga_selectionsort = selection_sort_harga(daftar_produk)\n",
        "\n",
        "    print(\"\\nDaftar Produk Setelah Diurutkan Berdasarkan Harga (Selection Sort):\")\n",
        "    if daftar_terurut_harga_selectionsort:\n",
        "        for produk in daftar_terurut_harga_selectionsort:\n",
        "            print(f\"- {produk['nama']}: Rp {produk['harga']}\")"
      ],
      "metadata": {
        "colab": {
          "base_uri": "https://localhost:8080/"
        },
        "id": "L8yb6h68Q4qu",
        "outputId": "11c0e486-22eb-474e-cbcf-c15673470be6"
      },
      "execution_count": null,
      "outputs": [
        {
          "output_type": "stream",
          "name": "stdout",
          "text": [
            "Masukkan jumlah produk yang ingin dimasukkan: 4\n",
            "Masukkan nama produk ke-1: Lighstick\n",
            "Masukkan harga produk Lighstick: 800000\n",
            "Masukkan nama produk ke-2: Photocard\n",
            "Masukkan harga produk Photocard: 230000\n",
            "Masukkan nama produk ke-3: Album\n",
            "Masukkan harga produk Album: 550000\n",
            "Masukkan nama produk ke-4: Keychain\n",
            "Masukkan harga produk Keychain: 120000\n",
            "\n",
            "Daftar Produk Sebelum Diurutkan:\n",
            "- Lighstick: Rp 800000.0\n",
            "- Photocard: Rp 230000.0\n",
            "- Album: Rp 550000.0\n",
            "- Keychain: Rp 120000.0\n",
            "\n",
            "Daftar Produk Setelah Diurutkan Berdasarkan Harga (Selection Sort):\n",
            "- Keychain: Rp 120000.0\n",
            "- Photocard: Rp 230000.0\n",
            "- Album: Rp 550000.0\n",
            "- Lighstick: Rp 800000.0\n"
          ]
        }
      ]
    }
  ]
}