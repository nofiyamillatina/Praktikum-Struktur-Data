{
  "nbformat": 4,
  "nbformat_minor": 0,
  "metadata": {
    "colab": {
      "provenance": [],
      "authorship_tag": "ABX9TyMPJI24Snc8SqEQSQUECUdX",
      "include_colab_link": true
    },
    "kernelspec": {
      "name": "python3",
      "display_name": "Python 3"
    },
    "language_info": {
      "name": "python"
    }
  },
  "cells": [
    {
      "cell_type": "markdown",
      "metadata": {
        "id": "view-in-github",
        "colab_type": "text"
      },
      "source": [
        "<a href=\"https://colab.research.google.com/github/nofiyamillatina/Praktikum-Struktur-Data/blob/main/Stack_Latihan.ipynb\" target=\"_parent\"><img src=\"https://colab.research.google.com/assets/colab-badge.svg\" alt=\"Open In Colab\"/></a>"
      ]
    },
    {
      "cell_type": "code",
      "execution_count": null,
      "metadata": {
        "colab": {
          "base_uri": "https://localhost:8080/"
        },
        "id": "BDBFUSKKvDJ-",
        "outputId": "9d3db28f-ee3c-4ab1-ca77-fc5722acf72a"
      },
      "outputs": [
        {
          "output_type": "stream",
          "name": "stdout",
          "text": [
            "[5]\n"
          ]
        }
      ],
      "source": [
        "class Stack:\n",
        "  def __init__(self):\n",
        "    self.stack = []\n",
        "\n",
        "  def push(self, item):\n",
        "    self.stack.append(item)\n",
        "\n",
        "# Contoh penggunaan\n",
        "s = Stack()\n",
        "s.push(5)\n",
        "print(s.stack)  # Output: [5]"
      ]
    },
    {
      "cell_type": "code",
      "source": [
        "class Stack:\n",
        "  def __init__(self):\n",
        "    self.stack = []\n",
        "\n",
        "  def push(self, item):\n",
        "    self.stack.append(item)\n",
        "\n",
        "  def pop(self):\n",
        "    if len(self.stack) == 0:\n",
        "      return \"Stack Kosong\"\n",
        "    return self.stack.pop()\n",
        "\n",
        "# Contoh Penggunaan\n",
        "s = Stack()\n",
        "s.push(5)\n",
        "s.push(10)\n",
        "print(s.pop())  # Output: 10\n",
        "print(s.stack)  # Output: [5]"
      ],
      "metadata": {
        "colab": {
          "base_uri": "https://localhost:8080/"
        },
        "id": "WzIAgO5ryg2v",
        "outputId": "950ee243-7aca-4f12-c558-b22f6ef4d863"
      },
      "execution_count": null,
      "outputs": [
        {
          "output_type": "stream",
          "name": "stdout",
          "text": [
            "10\n",
            "[5]\n"
          ]
        }
      ]
    },
    {
      "cell_type": "code",
      "source": [
        "class Stack:\n",
        "  def __init__(self):\n",
        "    self.stack = []\n",
        "\n",
        "  def push(self, item):\n",
        "    self.stack.append(item)\n",
        "\n",
        "  def peek(self):\n",
        "    if len(self.stack) == 0:\n",
        "      return \"Stack Kosong\"\n",
        "    return self.stack[-1]\n",
        "\n",
        "# Contoh penggunaan\n",
        "s = Stack()\n",
        "s.push(5)\n",
        "s.push(10)\n",
        "print(s.peek())  # Output: 10\n",
        "print(s.stack)  # Output: [5, 10]"
      ],
      "metadata": {
        "colab": {
          "base_uri": "https://localhost:8080/"
        },
        "id": "WX7aH6hIzQX3",
        "outputId": "5bdb71c6-9fce-4476-a9f2-fd9dd6379757"
      },
      "execution_count": null,
      "outputs": [
        {
          "output_type": "stream",
          "name": "stdout",
          "text": [
            "10\n",
            "[5, 10]\n"
          ]
        }
      ]
    },
    {
      "cell_type": "code",
      "source": [
        "class Stack:\n",
        "  def __init__(self):\n",
        "    self.stack = []\n",
        "\n",
        "  def push(self, item):\n",
        "    self.stack.append(item)\n",
        "\n",
        "  def is_empty(self):\n",
        "    return len(self.stack) == 0\n",
        "\n",
        "# Contoh penggunaan\n",
        "s = Stack()\n",
        "print(s.is_empty())  # Output: True\n",
        "s.push(5)\n",
        "print(s.is_empty())  # Output: False"
      ],
      "metadata": {
        "colab": {
          "base_uri": "https://localhost:8080/"
        },
        "id": "88JnrBLh0zBP",
        "outputId": "b2b117ff-5749-4fb1-c7ee-b3ce416b1617"
      },
      "execution_count": null,
      "outputs": [
        {
          "output_type": "stream",
          "name": "stdout",
          "text": [
            "True\n",
            "False\n"
          ]
        }
      ]
    },
    {
      "cell_type": "code",
      "source": [
        "class TextEditor:\n",
        "  def __init__(self):\n",
        "    self.history = []\n",
        "\n",
        "  def write(self, text):\n",
        "    self.history.append(text)\n",
        "\n",
        "  def undo(self):\n",
        "    if self.history:\n",
        "      return f\"Undo: Menghapus '{self.history.pop()}'\"\n",
        "    return \"Tidak ada yang bisa di-undo\"\n",
        "\n",
        "# Contoh Penggunaan\n",
        "editor = TextEditor()\n",
        "editor.write(\"Hallo, ini teks pertama.\")\n",
        "editor.write(\"Ini teks kedua.\")\n",
        "editor.write(\"Ini teks ketiga.\")\n",
        "\n",
        "print(editor.undo())\n",
        "print(editor.undo())"
      ],
      "metadata": {
        "colab": {
          "base_uri": "https://localhost:8080/"
        },
        "id": "iWlBRo6G6Ybc",
        "outputId": "51b59105-e438-4d71-8838-7f8fc080fa5e"
      },
      "execution_count": null,
      "outputs": [
        {
          "output_type": "stream",
          "name": "stdout",
          "text": [
            "Undo: Menghapus 'Ini teks ketiga.'\n",
            "Undo: Menghapus 'Ini teks kedua.'\n"
          ]
        }
      ]
    },
    {
      "cell_type": "code",
      "source": [
        "from collections import deque\n",
        "\n",
        "class BrowserHistory:\n",
        "  def __init__(self):\n",
        "    self.history = deque()\n",
        "\n",
        "  def visit (self, url):\n",
        "    self.history.append(url)\n",
        "    print(f\"Mengunjungi: {url}\")\n",
        "\n",
        "  def back(self):\n",
        "    if self.history:\n",
        "      print(f\"Kembali ke: {self.history.pop()}\")\n",
        "    else:\n",
        "      print(\"Tidak ada riwayat!\")\n",
        "\n",
        "# Contoh penggunaan\n",
        "browser = BrowserHistory()\n",
        "browser.visit(\"google.com\")\n",
        "browser.visit(\"youtub.com\")\n",
        "browser.visit(\"github.com\")\n",
        "\n",
        "browser.back()\n",
        "browser.back()"
      ],
      "metadata": {
        "id": "mLwzQw3b9EMs",
        "colab": {
          "base_uri": "https://localhost:8080/"
        },
        "outputId": "576fae15-844b-49d8-903b-8436b2759cda"
      },
      "execution_count": null,
      "outputs": [
        {
          "output_type": "stream",
          "name": "stdout",
          "text": [
            "Mengunjungi: google.com\n",
            "Mengunjungi: youtub.com\n",
            "Mengunjungi: github.com\n",
            "Kembali ke: github.com\n",
            "Kembali ke: youtub.com\n"
          ]
        }
      ]
    },
    {
      "cell_type": "code",
      "source": [
        "from queue import LifoQueue\n",
        "\n",
        "class BackupSystem:\n",
        "  def __init__(self):\n",
        "    self.backups = LifoQueue()\n",
        "\n",
        "  def backup(self, version):\n",
        "    self.backups.put(version)\n",
        "\n",
        "  def latest_backup(self):\n",
        "    if not self.backups.empty():\n",
        "      return f\"Versi terbaru: {self.backups.queue[-1]}\"\n",
        "    return \"Tidak ada cadangan!\"\n",
        "\n",
        "# Contoh penggunaan\n",
        "backup_system = BackupSystem()\n",
        "backup_system.backup(\"Versi_1\")\n",
        "backup_system.backup(\"Versi_2\")\n",
        "backup_system.backup(\"Versi_3\")\n",
        "\n",
        "print(backup_system.latest_backup())"
      ],
      "metadata": {
        "colab": {
          "base_uri": "https://localhost:8080/"
        },
        "id": "TB0Uffiwj4Wo",
        "outputId": "07cfebc8-af61-47f0-eded-2999104147fb"
      },
      "execution_count": null,
      "outputs": [
        {
          "output_type": "stream",
          "name": "stdout",
          "text": [
            "Versi terbaru: Versi_3\n"
          ]
        }
      ]
    },
    {
      "cell_type": "code",
      "source": [
        "class CustomerService:\n",
        "  def __init__(self):\n",
        "    self.tickets = []\n",
        "\n",
        "  def add_ticket(self, ticket):\n",
        "    self.tickets.append(ticket)\n",
        "\n",
        "  def process_ticket(self):\n",
        "    if not self.is_empty():\n",
        "      return f\"Memproses tiket: {self.tickets.pop()}\"\n",
        "    return \"Tidak ada tiket yang harus diproses.\"\n",
        "\n",
        "  def is_empty(self):\n",
        "    return len(self.tickets) == 0\n",
        "\n",
        "# Contoh penggunaan\n",
        "service  = CustomerService()\n",
        "service.add_ticket(\"Tiket 001\")\n",
        "service.add_ticket(\"Tiket 002\")\n",
        "\n",
        "\n",
        "print(service.process_ticket())\n",
        "print(service.is_empty())"
      ],
      "metadata": {
        "colab": {
          "base_uri": "https://localhost:8080/"
        },
        "id": "SJ87dsNblO7Z",
        "outputId": "af624e24-6704-424a-bf01-514d8afeed2a"
      },
      "execution_count": null,
      "outputs": [
        {
          "output_type": "stream",
          "name": "stdout",
          "text": [
            "Memproses tiket: Tiket 002\n",
            "False\n"
          ]
        }
      ]
    },
    {
      "cell_type": "markdown",
      "source": [
        "#Latihan 1"
      ],
      "metadata": {
        "id": "tZbhypymoben"
      }
    },
    {
      "cell_type": "code",
      "source": [
        "class KalkulatorUndo:\n",
        "    def __init__(self, angka_awal):\n",
        "        self.angka = angka_awal\n",
        "        self.riwayat = []  # Stack untuk menyimpan riwayat operasi\n",
        "\n",
        "    def tambah(self, angka):\n",
        "        self.riwayat.append((self.angka, '+', angka))\n",
        "        self.angka += angka\n",
        "\n",
        "    def kurang(self, angka):\n",
        "        self.riwayat.append((self.angka, '-', angka))\n",
        "        self.angka -= angka\n",
        "\n",
        "    def kali(self, angka):\n",
        "        self.riwayat.append((self.angka, '*', angka))\n",
        "        self.angka *= angka\n",
        "\n",
        "    def bagi(self, angka):\n",
        "        if angka == 0:\n",
        "            print(\"Error: Pembagian dengan nol!\")\n",
        "            return\n",
        "        self.riwayat.append((self.angka, '/', angka))\n",
        "        self.angka /= angka\n",
        "\n",
        "    def undo(self):\n",
        "        if not self.riwayat:\n",
        "            print(\"Tidak ada operasi untuk di-undo!\")\n",
        "            return\n",
        "        angka_sebelumnya, operasi, operand = self.riwayat.pop()\n",
        "        self.angka = angka_sebelumnya\n",
        "        print(f\"Undo: {angka_sebelumnya} {operasi} {operand}\")\n",
        "\n",
        "    def tampilkan_hasil(self):\n",
        "        print(f\"Hasil: {self.angka}\")\n",
        "\n",
        "# Contoh penggunaan\n",
        "try:\n",
        "  angka_awal = int(input(\"Masukkan dua angka akhir NPM anda:\"))\n",
        "  kalkulator = KalkulatorUndo(angka_awal)\n",
        "\n",
        "  while True:\n",
        "            print(\"\\nOperasi:\")\n",
        "            print(\"1. Tambah\")\n",
        "            print(\"2. Kurang\")\n",
        "            print(\"3. Kali\")\n",
        "            print(\"4. Bagi\")\n",
        "            print(\"5. Undo\")\n",
        "            print(\"6. Tampilkan Hasil\")\n",
        "            print(\"0. Keluar\")\n",
        "\n",
        "            pilihan = input(\"Pilih operasi (0-6): \")\n",
        "\n",
        "            if pilihan == '1':\n",
        "              angka = int(input(\"Masukkan angka yang akan ditambahkan:\"))\n",
        "              kalkulator.tambah(angka)\n",
        "            elif pilihan == '2':\n",
        "              angka = int(input(\"Masukkan angka yang akan dikurangi:\"))\n",
        "              kalkulator.kurang(angka)\n",
        "            elif pilihan == '3':\n",
        "              angka  = int(input(\"Masukkan angka yang akan dikali:\"))\n",
        "              kalkulator.kali(angka)\n",
        "            elif pilihan == '4':\n",
        "              angka = int(input(\"Masukkan angka yang akan dibagi:\"))\n",
        "              kalkulator.bagi(angka)\n",
        "            elif pilihan == '5':\n",
        "              kalkulator.undo()\n",
        "            elif pilihan == '6':\n",
        "              kalkulator.tampilkan_hasil()\n",
        "            else:\n",
        "              print(\"Terima Kasih!\")\n",
        "            if pilihan == '0':\n",
        "              break\n",
        "except ValueError:\n",
        "      print(\"Masukkan angka yang valid!\")"
      ],
      "metadata": {
        "colab": {
          "base_uri": "https://localhost:8080/"
        },
        "id": "uzWgBS-7cVnn",
        "outputId": "22d03bc9-2847-41c6-9536-3ded278341eb"
      },
      "execution_count": null,
      "outputs": [
        {
          "output_type": "stream",
          "name": "stdout",
          "text": [
            "Masukkan dua angka akhir NPM anda:26\n",
            "\n",
            "Operasi:\n",
            "1. Tambah\n",
            "2. Kurang\n",
            "3. Kali\n",
            "4. Bagi\n",
            "5. Undo\n",
            "6. Tampilkan Hasil\n",
            "0. Keluar\n",
            "Pilih operasi (0-6): 1\n",
            "Masukkan angka yang akan ditambahkan:3\n",
            "\n",
            "Operasi:\n",
            "1. Tambah\n",
            "2. Kurang\n",
            "3. Kali\n",
            "4. Bagi\n",
            "5. Undo\n",
            "6. Tampilkan Hasil\n",
            "0. Keluar\n",
            "Pilih operasi (0-6): 6\n",
            "Hasil: 29\n",
            "\n",
            "Operasi:\n",
            "1. Tambah\n",
            "2. Kurang\n",
            "3. Kali\n",
            "4. Bagi\n",
            "5. Undo\n",
            "6. Tampilkan Hasil\n",
            "0. Keluar\n",
            "Pilih operasi (0-6): 3\n",
            "Masukkan angka yang akan dikali:3\n",
            "\n",
            "Operasi:\n",
            "1. Tambah\n",
            "2. Kurang\n",
            "3. Kali\n",
            "4. Bagi\n",
            "5. Undo\n",
            "6. Tampilkan Hasil\n",
            "0. Keluar\n",
            "Pilih operasi (0-6): 5\n",
            "Undo: 29 * 3\n",
            "\n",
            "Operasi:\n",
            "1. Tambah\n",
            "2. Kurang\n",
            "3. Kali\n",
            "4. Bagi\n",
            "5. Undo\n",
            "6. Tampilkan Hasil\n",
            "0. Keluar\n",
            "Pilih operasi (0-6): 0\n",
            "Terima Kasih!\n"
          ]
        }
      ]
    },
    {
      "cell_type": "markdown",
      "source": [
        "#Latihan 2"
      ],
      "metadata": {
        "id": "5YWfOnYLoeF1"
      }
    },
    {
      "cell_type": "code",
      "source": [
        "class NavigasiHistory:\n",
        "  def __init__(self, fitur_awal):\n",
        "    self.riwayat = [fitur_awal]\n",
        "\n",
        "  def navigasi(self, fitur):\n",
        "    self.riwayat.append(fitur)\n",
        "\n",
        "  def kembali(self):\n",
        "    if len(self.riwayat) <= 1:\n",
        "      print(\"Tidak ada fitur yang bisa di-kembali!\")\n",
        "      return\n",
        "    self.riwayat.pop()\n",
        "    print(f\"Kembali ke: {self.riwayat[-1]}\")\n",
        "\n",
        "  def lihat_riwayat(self):\n",
        "    print(\"Riwayat Navigasi:\")\n",
        "    for fitur in self.riwayat:\n",
        "      print(f\"- {fitur}\")\n",
        "try:\n",
        "  huruf_bulan = str(input(\"Masukkan huruf pertama bulan lahir anda:\"))\n",
        "  npm_akhir = int(input(\"Masukkan 2 digit NPM terakhir anda:\"))\n",
        "  fitur_awal = f\"{huruf_bulan}{npm_akhir}\"\n",
        "  navigator = NavigasiHistory(fitur_awal)\n",
        "\n",
        "  while True:\n",
        "    print(\"\\nMenu Navigasi:\")\n",
        "    print(\"1. Navigasi\")\n",
        "    print(\"2. Kembali\")\n",
        "    print(\"3. Lihat Riwayat\")\n",
        "    print(\"0. Keluar\")\n",
        "    pilihan = input(\"Pilih menu (0-3): \")\n",
        "\n",
        "    if pilihan == '1':\n",
        "      fitur = input(\"Masukkan nama fitur: \")\n",
        "      navigator.navigasi(fitur)\n",
        "    elif pilihan == '2':\n",
        "      navigator.kembali()\n",
        "    elif pilihan == '3':\n",
        "      navigator.lihat_riwayat()\n",
        "    elif pilihan == '0':\n",
        "      print(\"Terima Kasih!\")\n",
        "      break\n",
        "    else:\n",
        "      print(\"Pilihan tidak valid. Silakan coba lagi.\")\n",
        "except ValueError:\n",
        "      print(\"Masukkan angka yang valid!\")\n"
      ],
      "metadata": {
        "id": "WEoEKfUYouk5",
        "colab": {
          "base_uri": "https://localhost:8080/"
        },
        "outputId": "59661b46-b208-4ded-8b5c-ea7781ca91b6"
      },
      "execution_count": null,
      "outputs": [
        {
          "output_type": "stream",
          "name": "stdout",
          "text": [
            "Masukkan huruf pertama bulan lahir anda:J\n",
            "Masukkan 2 digit NPM terakhir anda:26\n",
            "\n",
            "Menu Navigasi:\n",
            "1. Navigasi\n",
            "2. Kembali\n",
            "3. Lihat Riwayat\n",
            "0. Keluar\n",
            "Pilih menu (0-3): 1\n",
            "Masukkan nama fitur: Hallo\n",
            "\n",
            "Menu Navigasi:\n",
            "1. Navigasi\n",
            "2. Kembali\n",
            "3. Lihat Riwayat\n",
            "0. Keluar\n",
            "Pilih menu (0-3): 2\n",
            "Kembali ke: J26\n",
            "\n",
            "Menu Navigasi:\n",
            "1. Navigasi\n",
            "2. Kembali\n",
            "3. Lihat Riwayat\n",
            "0. Keluar\n",
            "Pilih menu (0-3): 3\n",
            "Riwayat Navigasi:\n",
            "- J26\n",
            "\n",
            "Menu Navigasi:\n",
            "1. Navigasi\n",
            "2. Kembali\n",
            "3. Lihat Riwayat\n",
            "0. Keluar\n",
            "Pilih menu (0-3): 0\n",
            "Terima Kasih!\n"
          ]
        }
      ]
    },
    {
      "cell_type": "markdown",
      "source": [
        "#Latihan 3"
      ],
      "metadata": {
        "id": "fuEtO3Oroht4"
      }
    },
    {
      "cell_type": "code",
      "source": [
        "class PenyimpananDraftEmail:\n",
        "  def __init__(self):\n",
        "    self.drafts = []\n",
        "\n",
        "  def simpan_draft(self, email):\n",
        "    self.drafts.append(email)\n",
        "\n",
        "  def tampilkan_drafts(self):\n",
        "    if not self.drafts:\n",
        "      print(\"Tidak ada draft email yang disimpan.\")\n",
        "      return\n",
        "    print(\"Draft Email:\")\n",
        "    for index, email in enumerate(self.drafts, start=1):\n",
        "      print(f\"{index}. {email}\")\n",
        "\n",
        "\n",
        "try:\n",
        "  nama_depan = str(input(\"Masukkan 2 huruf pertama nama anda:\"))\n",
        "  npm_akhir = int(input(\"Masukkan 2 digit NPM terakhir anda:\"))\n",
        "\n",
        "  penyimpanan = PenyimpananDraftEmail()\n",
        "\n",
        "  while True:\n",
        "    print(\"\\nMENU:\")\n",
        "    print(\"1. Simpan Draft\")\n",
        "    print(\"2. Tampilkan Draft\")\n",
        "    print(\"0. Keluar\")\n",
        "\n",
        "    pilihan = input(\"Pilih menu (0-2): \")\n",
        "\n",
        "    if pilihan == '1':\n",
        "      email = input(\"Masukkan isi draft email: \")\n",
        "      penyimpanan.simpan_draft(email)\n",
        "      print(\"Draft email berhasil disimpan.\")\n",
        "    elif pilihan == '2':\n",
        "      penyimpanan.tampilkan_drafts()\n",
        "    elif pilihan == '0':\n",
        "      print(\"Terima Kasih!\")\n",
        "      break\n",
        "    else:\n",
        "      print(\"Pilihan tidak valid. Silakan coba lagi.\")\n",
        "except ValueError:\n",
        "      print(\"Masukkan angka yang valid!\")"
      ],
      "metadata": {
        "id": "qqmff5woov4A",
        "colab": {
          "base_uri": "https://localhost:8080/"
        },
        "outputId": "ce03918d-49ee-494d-8f26-70136efa7764"
      },
      "execution_count": null,
      "outputs": [
        {
          "output_type": "stream",
          "name": "stdout",
          "text": [
            "Masukkan 2 huruf pertama nama anda:NO\n",
            "Masukkan 2 digit NPM terakhir anda:26\n",
            "\n",
            "MENU:\n",
            "1. Simpan Draft\n",
            "2. Tampilkan Draft\n",
            "0. Keluar\n",
            "Pilih menu (0-2): 1\n",
            "Masukkan isi draft email: WOW\n",
            "Draft email berhasil disimpan.\n",
            "\n",
            "MENU:\n",
            "1. Simpan Draft\n",
            "2. Tampilkan Draft\n",
            "0. Keluar\n",
            "Pilih menu (0-2): 1\n",
            "Masukkan isi draft email: WAH\n",
            "Draft email berhasil disimpan.\n",
            "\n",
            "MENU:\n",
            "1. Simpan Draft\n",
            "2. Tampilkan Draft\n",
            "0. Keluar\n",
            "Pilih menu (0-2): 1\n",
            "Masukkan isi draft email: AHA\n",
            "Draft email berhasil disimpan.\n",
            "\n",
            "MENU:\n",
            "1. Simpan Draft\n",
            "2. Tampilkan Draft\n",
            "0. Keluar\n",
            "Pilih menu (0-2): 2\n",
            "Draft Email:\n",
            "1. WOW\n",
            "2. WAH\n",
            "3. AHA\n",
            "\n",
            "MENU:\n",
            "1. Simpan Draft\n",
            "2. Tampilkan Draft\n",
            "0. Keluar\n",
            "Pilih menu (0-2): 0\n",
            "Terima Kasih!\n"
          ]
        }
      ]
    },
    {
      "cell_type": "markdown",
      "source": [
        "#Latihan 4"
      ],
      "metadata": {
        "id": "542qs4n6onsb"
      }
    },
    {
      "cell_type": "code",
      "source": [
        "class AntreanBioskop:\n",
        "    def __init__(self, judul_film):\n",
        "        self.pelanggan = []\n",
        "        self.judul_film = judul_film\n",
        "\n",
        "    def beli_tiket(self, nama):\n",
        "        self.pelanggan.append(nama)\n",
        "        print(f\"{nama} beli tiket film {self.judul_film}!\")\n",
        "\n",
        "    def panggil_masuk(self):\n",
        "        if not self.pelanggan:\n",
        "            print(\"Antrean lagi kosong nih.\")\n",
        "            return\n",
        "\n",
        "        nama = self.pelanggan.pop()\n",
        "        print(f\"Silakan masuk, {nama}!\")\n",
        "\n",
        "    def cek_antrean(self):\n",
        "        print(\"Antrean sekarang:\")\n",
        "        if not self.pelanggan:\n",
        "            print(\"- Kosong -\")\n",
        "        else:\n",
        "            for nama in reversed(self.pelanggan):\n",
        "                print(f\"- {nama}\")\n",
        "\n",
        "try:\n",
        "\n",
        "    npm_akhir = input(\"2 digit NPM terakhir: \")\n",
        "    huruf_bulan = input(\"Huruf pertama bulan lahir: \").upper()\n",
        "    judul_film = f\"{npm_akhir}{huruf_bulan}\"\n",
        "\n",
        "    bioskop = AntreanBioskop(judul_film)\n",
        "\n",
        "    while True:\n",
        "        print(\"\\nMenu:\")\n",
        "        print(\"1. Beli Tiket\")\n",
        "        print(\"2. Panggil Masuk\")\n",
        "        print(\"3. Cek Antrean\")\n",
        "        print(\"0. Keluar\")\n",
        "\n",
        "        pilihan = input(\"Pilih: \")\n",
        "\n",
        "        if pilihan == '1':\n",
        "            nama = input(\"Nama pelanggan: \")\n",
        "            bioskop.beli_tiket(nama)\n",
        "        elif pilihan == '2':\n",
        "            bioskop.panggil_masuk()\n",
        "        elif pilihan == '3':\n",
        "            bioskop.cek_antrean()\n",
        "        elif pilihan == '0':\n",
        "            print(\"Oke, dadah!\")\n",
        "            break\n",
        "        else:\n",
        "            print(\"Input salah!\")\n",
        "\n",
        "except ValueError:\n",
        "      print(\"Masukkan angka yang valid!\")\n"
      ],
      "metadata": {
        "colab": {
          "base_uri": "https://localhost:8080/"
        },
        "id": "DLy9QBTYuAyH",
        "outputId": "0b2c2ce8-16c5-494b-a930-7cdfc020738a"
      },
      "execution_count": 6,
      "outputs": [
        {
          "output_type": "stream",
          "name": "stdout",
          "text": [
            "2 digit NPM terakhir: 26\n",
            "Huruf pertama bulan lahir: J\n",
            "\n",
            "Menu:\n",
            "1. Beli Tiket\n",
            "2. Panggil Masuk\n",
            "3. Cek Antrean\n",
            "0. Keluar\n",
            "Pilih: 1\n",
            "Nama pelanggan: Yaya\n",
            "Yaya beli tiket film 26J!\n",
            "\n",
            "Menu:\n",
            "1. Beli Tiket\n",
            "2. Panggil Masuk\n",
            "3. Cek Antrean\n",
            "0. Keluar\n",
            "Pilih: 1\n",
            "Nama pelanggan: Sasa\n",
            "Sasa beli tiket film 26J!\n",
            "\n",
            "Menu:\n",
            "1. Beli Tiket\n",
            "2. Panggil Masuk\n",
            "3. Cek Antrean\n",
            "0. Keluar\n",
            "Pilih: 1\n",
            "Nama pelanggan: Gea\n",
            "Gea beli tiket film 26J!\n",
            "\n",
            "Menu:\n",
            "1. Beli Tiket\n",
            "2. Panggil Masuk\n",
            "3. Cek Antrean\n",
            "0. Keluar\n",
            "Pilih: 2\n",
            "Silakan masuk, Gea!\n",
            "\n",
            "Menu:\n",
            "1. Beli Tiket\n",
            "2. Panggil Masuk\n",
            "3. Cek Antrean\n",
            "0. Keluar\n",
            "Pilih: 3\n",
            "Antrean sekarang:\n",
            "- Sasa\n",
            "- Yaya\n",
            "\n",
            "Menu:\n",
            "1. Beli Tiket\n",
            "2. Panggil Masuk\n",
            "3. Cek Antrean\n",
            "0. Keluar\n",
            "Pilih: 0\n",
            "Oke, dadah!\n"
          ]
        }
      ]
    }
  ]
}