{
  "nbformat": 4,
  "nbformat_minor": 0,
  "metadata": {
    "colab": {
      "provenance": [],
      "authorship_tag": "ABX9TyNbFH6YVjYS8R4U0JA+639a",
      "include_colab_link": true
    },
    "kernelspec": {
      "name": "python3",
      "display_name": "Python 3"
    },
    "language_info": {
      "name": "python"
    }
  },
  "cells": [
    {
      "cell_type": "markdown",
      "metadata": {
        "id": "view-in-github",
        "colab_type": "text"
      },
      "source": [
        "<a href=\"https://colab.research.google.com/github/nofiyamillatina/Praktikum-Struktur-Data/blob/main/Tree_Tugas.ipynb\" target=\"_parent\"><img src=\"https://colab.research.google.com/assets/colab-badge.svg\" alt=\"Open In Colab\"/></a>"
      ]
    },
    {
      "cell_type": "markdown",
      "source": [
        "Tugas 1\n",
        "\n",
        "Program Struktur Binary Tree Manual\n"
      ],
      "metadata": {
        "id": "N1BRrHa1PhSH"
      }
    },
    {
      "cell_type": "code",
      "execution_count": null,
      "metadata": {
        "colab": {
          "base_uri": "https://localhost:8080/"
        },
        "id": "H5AQy-XcNMGF",
        "outputId": "02b540dc-46cb-4472-e3a3-44cd26939699"
      },
      "outputs": [
        {
          "output_type": "stream",
          "name": "stdout",
          "text": [
            "Hasil inorder traversal dari binary tree:\n",
            "15 7 15 26 7 "
          ]
        }
      ],
      "source": [
        "# Struktur Tree berdasarkan identitas saya\n",
        "class Node:\n",
        "  def __init__(self, data):\n",
        "    self.data = data\n",
        "    self.left = None\n",
        "    self.right = None\n",
        "\n",
        "root = Node(15)    # Jumlah huruf pada nama lengkap \"Nofiya Millatina\"\n",
        "root.left = Node(7)   # Jumlah huruf vokal pada nama\n",
        "root.right = Node(26)   # Dua digit terakhir dari NPM \"2420506026\"\n",
        "root.left.left = Node(15)   # Tanggal lahir\n",
        "root.right.right = Node(7)   # Bulan lahir\n",
        "\n",
        "def inorder(node):\n",
        "  if node:\n",
        "    inorder (node.left)\n",
        "    print(node.data, end=' ')\n",
        "    inorder(node.right)\n",
        "\n",
        "print(\"Hasil inorder traversal dari binary tree:\")\n",
        "inorder(root)\n"
      ]
    },
    {
      "cell_type": "markdown",
      "source": [
        "Tugas 2\n",
        "\n",
        "Program Binary Search Tree (BST)"
      ],
      "metadata": {
        "id": "znuW6NOIS-02"
      }
    },
    {
      "cell_type": "code",
      "source": [
        "# Membuat Binary Search Tree\n",
        "class Node:\n",
        "  def __init__(self, data):    # Menyimpan nilai data\n",
        "    self.data = data\n",
        "    self.left = None\n",
        "    self.right = None\n",
        "\n",
        "class BinarySearchTree:   # Membuat kelas BST untuk mengelola operasi\n",
        "  def __init__(self):\n",
        "    self.root = None   # Membuat root awal\n",
        "\n",
        "  def insert(self, root, data):   # Kelas yang digunakan untuk menyisipkan dan menambahkan node baru\n",
        "    if root is None:\n",
        "      return Node(data)   # Jika belom ada node, maka akan dibuat node yang baru\n",
        "    if data < root.data:\n",
        "      root.left = self.insert(root.left, data)   # Rekursi kekiri jika nilai data lebih kecil\n",
        "    else:\n",
        "      root.right = self.insert(root.right, data)    # Rekursi kekanan jika nilai data lebih besar\n",
        "    return root\n",
        "\n",
        "bst = BinarySearchTree()\n",
        "root = None\n",
        "data_list = [26, 15, 7, 7879, 88, 12]   # Daftar data yang akan dimasukkan dalam BST\n",
        "for value in data_list:   # Menyisipkan semua data ke dalam BST\n",
        "  root = bst.insert(root, value)\n",
        "\n",
        "# Traversal pada BST\n",
        "def inorder(node):   # Fungsi inorder untuk menampilakan data dari terkecil ke terbesar\n",
        "  if node:\n",
        "    inorder(node.left)\n",
        "    print(node.data, end=' ')\n",
        "    inorder(node.right)\n",
        "\n",
        "def preorder(node):   # Fungsi preorder untuk mencetak struktur tree dari root ke bawah\n",
        "  if node:\n",
        "    print(node.data, end=' ')\n",
        "    preorder(node.left)\n",
        "    preorder(node.right)\n",
        "\n",
        "def postorder(node):   # Fungsi postorder untuk mencetak node seluruh subtree-nya selesai diproses\n",
        "  if node:\n",
        "    postorder(node.left)\n",
        "    postorder(node.right)\n",
        "    print(node.data, end=' ')\n",
        "\n",
        "# Menampilkan hasil traversal\n",
        "print(\"\\n=== Fitur Traversal ===\")\n",
        "print(\"✔️Inorder Traversal:\")\n",
        "inorder(root)\n",
        "print(\"\\n✔️Preorder Traversal:\")\n",
        "preorder(root)\n",
        "print(\"\\n✔️Postorder Traversal:\")\n",
        "postorder(root)\n",
        "\n",
        "# Pencarian nilai dalam BST\n",
        "def search(node, key):\n",
        "  if node is None or node.data == key:\n",
        "    return node   # Mengembalikan node jika ditemukan atau node kosong\n",
        "  if key < node.data:\n",
        "    return search(node.left, key)   # Rekursi ke kiri jika nilai key lebih kecil\n",
        "  return search(node.right, key)   # Rekursi ke kanan jika nilai key lebih besar\n",
        "\n",
        "# Pencarian dengan input user\n",
        "print(\"\\n\")\n",
        "print(\"\\n=== Fitur Pencarian ===\")\n",
        "for i in range(1, 3):    # Mencari dua kali untuk mencari nilai 2 digit terakhir NPM dan nilai angka yang tidak ada dalam daftar\n",
        "    try:\n",
        "        user_input = int(input(f\"Masukkan angka ke-{i} yang ingin dicari: \"))\n",
        "        found = search(root, user_input)\n",
        "        print(f\"Angka {user_input}\", \"Ditemukan\" if found else \"Tidak ditemukan\",  \"dalam BST\")   # Menampilkan hasil pencarian\n",
        "    except ValueError:\n",
        "        print(\"Input tidak valid! Harus berupa angka.\")"
      ],
      "metadata": {
        "id": "x4IixECnSDZE",
        "colab": {
          "base_uri": "https://localhost:8080/"
        },
        "outputId": "077ca11d-790a-470d-f380-f5b0a8d732d2"
      },
      "execution_count": 2,
      "outputs": [
        {
          "output_type": "stream",
          "name": "stdout",
          "text": [
            "\n",
            "=== Fitur Traversal ===\n",
            "✔️Inorder Traversal:\n",
            "7 12 15 26 88 7879 \n",
            "✔️Preorder Traversal:\n",
            "26 15 7 12 7879 88 \n",
            "✔️Postorder Traversal:\n",
            "12 7 15 88 7879 26 \n",
            "\n",
            "\n",
            "=== Fitur Pencarian ===\n",
            "Masukkan angka ke-1 yang ingin dicari: 26\n",
            "Angka 26 Ditemukan dalam BST\n",
            "Masukkan angka ke-2 yang ingin dicari: 99\n",
            "Angka 99 Tidak ditemukan dalam BST\n"
          ]
        }
      ]
    }
  ]
}